{
 "cells": [
  {
   "cell_type": "code",
   "execution_count": 1,
   "metadata": {},
   "outputs": [
    {
     "name": "stderr",
     "output_type": "stream",
     "text": [
      "c:\\Users\\Toshiba\\anaconda3\\envs\\langgraph\\lib\\site-packages\\IPython\\core\\interactiveshell.py:3577: LangChainDeprecationWarning: As of langchain-core 0.3.0, LangChain uses pydantic v2 internally. The langchain_core.pydantic_v1 module was a compatibility shim for pydantic v1, and should no longer be used. Please update the code to import from Pydantic directly.\n",
      "\n",
      "For example, replace imports like: `from langchain_core.pydantic_v1 import BaseModel`\n",
      "with: `from pydantic import BaseModel`\n",
      "or the v1 compatibility namespace if you are working in a code base that has not been fully upgraded to pydantic 2 yet. \tfrom pydantic.v1 import BaseModel\n",
      "\n",
      "  exec(code_obj, self.user_global_ns, self.user_ns)\n",
      "USER_AGENT environment variable not set, consider setting it to identify your requests.\n"
     ]
    }
   ],
   "source": [
    "from typing import Annotated, Literal, Sequence, TypedDict\n",
    "from langchain import hub\n",
    "from langchain_core.messages import BaseMessage, HumanMessage\n",
    "from langchain_core.output_parsers import StrOutputParser\n",
    "from langchain_core.prompts import PromptTemplate\n",
    "from langchain_core.pydantic_v1 import BaseModel, Field\n",
    "from langgraph.graph.message import add_messages\n",
    "from langgraph.prebuilt import tools_condition\n",
    "from langchain_community.document_loaders import WebBaseLoader\n",
    "from langchain_community.vectorstores import Chroma\n",
    "from langchain_text_splitters import RecursiveCharacterTextSplitter\n",
    "from langchain.tools.retriever import create_retriever_tool\n",
    "from langgraph.graph import END, StateGraph, START\n",
    "from langgraph.prebuilt import ToolNode"
   ]
  },
  {
   "cell_type": "code",
   "execution_count": 2,
   "metadata": {},
   "outputs": [],
   "source": [
    "from langchain_huggingface import HuggingFaceEmbeddings"
   ]
  },
  {
   "cell_type": "code",
   "execution_count": 3,
   "metadata": {},
   "outputs": [
    {
     "data": {
      "application/vnd.jupyter.widget-view+json": {
       "model_id": "138d1d2f719a4800a765e4bab4a090f7",
       "version_major": 2,
       "version_minor": 0
      },
      "text/plain": [
       "pytorch_model.bin:   0%|          | 0.00/90.9M [00:00<?, ?B/s]"
      ]
     },
     "metadata": {},
     "output_type": "display_data"
    },
    {
     "name": "stderr",
     "output_type": "stream",
     "text": [
      "c:\\Users\\Toshiba\\anaconda3\\envs\\langgraph\\lib\\site-packages\\huggingface_hub\\file_download.py:140: UserWarning: `huggingface_hub` cache-system uses symlinks by default to efficiently store duplicated files but your machine does not support them in C:\\Users\\Toshiba\\.cache\\huggingface\\hub\\models--sentence-transformers--all-MiniLM-L6-v2. Caching files will still work but in a degraded version that might require more space on your disk. This warning can be disabled by setting the `HF_HUB_DISABLE_SYMLINKS_WARNING` environment variable. For more details, see https://huggingface.co/docs/huggingface_hub/how-to-cache#limitations.\n",
      "To support symlinks on Windows, you either need to activate Developer Mode or to run Python as an administrator. In order to activate developer mode, see this article: https://docs.microsoft.com/en-us/windows/apps/get-started/enable-your-device-for-development\n",
      "  warnings.warn(message)\n"
     ]
    },
    {
     "data": {
      "application/vnd.jupyter.widget-view+json": {
       "model_id": "d2bcbed79aab49a7aaa67ca8ca253875",
       "version_major": 2,
       "version_minor": 0
      },
      "text/plain": [
       "tokenizer_config.json:   0%|          | 0.00/350 [00:00<?, ?B/s]"
      ]
     },
     "metadata": {},
     "output_type": "display_data"
    },
    {
     "data": {
      "application/vnd.jupyter.widget-view+json": {
       "model_id": "5a6ec843e1da4d898fe07a0875d5ae8f",
       "version_major": 2,
       "version_minor": 0
      },
      "text/plain": [
       "vocab.txt:   0%|          | 0.00/232k [00:00<?, ?B/s]"
      ]
     },
     "metadata": {},
     "output_type": "display_data"
    },
    {
     "data": {
      "application/vnd.jupyter.widget-view+json": {
       "model_id": "83c93f24705b4e08950515a2f6cb0b76",
       "version_major": 2,
       "version_minor": 0
      },
      "text/plain": [
       "tokenizer.json:   0%|          | 0.00/466k [00:00<?, ?B/s]"
      ]
     },
     "metadata": {},
     "output_type": "display_data"
    },
    {
     "data": {
      "application/vnd.jupyter.widget-view+json": {
       "model_id": "865bac892fa848f3961f5fe319ea3edc",
       "version_major": 2,
       "version_minor": 0
      },
      "text/plain": [
       "special_tokens_map.json:   0%|          | 0.00/112 [00:00<?, ?B/s]"
      ]
     },
     "metadata": {},
     "output_type": "display_data"
    },
    {
     "data": {
      "application/vnd.jupyter.widget-view+json": {
       "model_id": "a0546cf294e34cbd9d7448301e11b4b6",
       "version_major": 2,
       "version_minor": 0
      },
      "text/plain": [
       "1_Pooling/config.json:   0%|          | 0.00/190 [00:00<?, ?B/s]"
      ]
     },
     "metadata": {},
     "output_type": "display_data"
    }
   ],
   "source": [
    "embedding = HuggingFaceEmbeddings(model_name = \"all-MiniLM-L6-v2\")"
   ]
  },
  {
   "cell_type": "code",
   "execution_count": 4,
   "metadata": {},
   "outputs": [],
   "source": [
    "from langchain_groq import ChatGroq"
   ]
  },
  {
   "cell_type": "code",
   "execution_count": 5,
   "metadata": {},
   "outputs": [],
   "source": [
    "llm = ChatGroq(model_name = \"Gemma2-9b-It\")"
   ]
  },
  {
   "cell_type": "code",
   "execution_count": 6,
   "metadata": {},
   "outputs": [
    {
     "data": {
      "text/plain": [
       "AIMessage(content='ISRO stands for **Indian Space Research Organisation**. \\n\\nIt is the national space agency of India headquartered in Bengaluru.  \\n\\nHere are some key facts about ISRO:\\n\\n* **Established:** 15 August 1969\\n* **Mission:** To conduct research and development in space technology and its applications.\\n* **Achievements:**  ISRO has achieved many milestones, including:\\n    * Launching its first satellite, Aryabhata, in 1975.\\n    * Developing and launching its own launch vehicles, such as the Polar Satellite Launch Vehicle (PSLV) and Geostationary Satellite Launch Vehicle (GSLV).\\n    * Placing India among the top spacefaring nations.\\n    * Successful missions to the Moon (Chandrayaan-1, Chandrayaan-2) and Mars (Mangalyaan).\\n* **Future Goals:** ISRO is working on ambitious projects, including:\\n    *  Developing a human spaceflight program (Gaganyaan).\\n    *  Exploring the Solar System with future missions.\\n    *  Increasing the use of space technology for the benefit of society.\\n\\n\\n\\nLet me know if you have any other questions about ISRO!\\n', additional_kwargs={}, response_metadata={'token_usage': {'completion_tokens': 250, 'prompt_tokens': 12, 'total_tokens': 262, 'completion_time': 0.454545455, 'prompt_time': 7.8109e-05, 'queue_time': 0.020972170000000002, 'total_time': 0.454623564}, 'model_name': 'Gemma2-9b-It', 'system_fingerprint': 'fp_10c08bf97d', 'finish_reason': 'stop', 'logprobs': None}, id='run-f500b6ab-7e06-40f2-8446-ccaab04beb9a-0', usage_metadata={'input_tokens': 12, 'output_tokens': 250, 'total_tokens': 262})"
      ]
     },
     "execution_count": 6,
     "metadata": {},
     "output_type": "execute_result"
    }
   ],
   "source": [
    "llm.invoke('ISRO?')"
   ]
  },
  {
   "cell_type": "code",
   "execution_count": 15,
   "metadata": {},
   "outputs": [],
   "source": [
    "urls = [\n",
    "    \"https://python.langchain.com/v0.1/docs/modules/agents/\",\n",
    "    \"https://blog.langchain.dev/what-is-an-agent/\"\n",
    "]"
   ]
  },
  {
   "cell_type": "code",
   "execution_count": 16,
   "metadata": {},
   "outputs": [],
   "source": [
    "#load the data from web url using web base loader\n",
    "docs = [WebBaseLoader(url).load() for url in urls]"
   ]
  },
  {
   "cell_type": "code",
   "execution_count": 17,
   "metadata": {},
   "outputs": [
    {
     "data": {
      "text/plain": [
       "[[Document(metadata={'source': 'https://python.langchain.com/v0.1/docs/modules/agents/', 'title': 'Agents | 🦜️🔗 LangChain', 'description': 'The core idea of agents is to use a language model to choose a sequence of actions to take.', 'language': 'en'}, page_content='\\n\\n\\n\\n\\nAgents | 🦜️🔗 LangChain\\n\\n\\n\\n\\n\\n\\n\\nSkip to main contentThis is documentation for LangChain v0.1, which is no longer actively maintained. Check out the docs for the latest version here.ComponentsIntegrationsGuidesAPI ReferenceMorePeopleVersioningContributingTemplatesCookbooksTutorialsYouTubev0.1Latestv0.2v0.1🦜️🔗LangSmithLangSmith DocsLangServe GitHubTemplates GitHubTemplates HubLangChain HubJS/TS Docs💬SearchModel I/OPromptsChat modelsLLMsOutput parsersRetrievalDocument loadersText splittersEmbedding modelsVector storesRetrieversIndexingCompositionToolsAgentsQuickstartConceptsTypesAgentshow_toChainsMoreComponentsThis is documentation for LangChain v0.1, which is no longer actively maintained.For the current stable version, see this version (Latest).CompositionAgentsOn this pageAgentsThe core idea of agents is to use a language model to choose a sequence of actions to take.\\nIn chains, a sequence of actions is hardcoded (in code).\\nIn agents, a language model is used as a reasoning engine to determine which actions to take and in which order.Quickstart\\u200bFor a quick start to working with agents, please check out this getting started guide. This covers basics like initializing an agent, creating tools, and adding memory.Concepts\\u200bThere are several key concepts to understand when building agents: Agents, AgentExecutor, Tools, Toolkits.\\nFor an in depth explanation, please check out this conceptual guideAgent Types\\u200bThere are many different types of agents to use. For a overview of the different types and when to use them, please check out this section.Tools\\u200bAgents are only as good as the tools they have. For a comprehensive guide on tools, please see this section.How To Guides\\u200bAgents have a lot of related functionality! Check out comprehensive guides including:Building a custom agentStreaming (of both intermediate steps and tokens)Building an agent that returns structured outputLots functionality around using AgentExecutor, including: using it as an iterator, handle parsing errors, returning intermediate steps, capping the max number of iterations, and timeouts for agentsHelp us out by providing feedback on this documentation page:PreviousTools as OpenAI FunctionsNextQuickstartQuickstartConceptsAgent TypesToolsHow To GuidesCommunityDiscordTwitterGitHubPythonJS/TSMoreHomepageBlogYouTubeCopyright © 2024 LangChain, Inc.\\n\\n\\n\\n')],\n",
       " [Document(metadata={'source': 'https://blog.langchain.dev/what-is-an-agent/', 'title': 'What is an AI agent?', 'description': 'Introducing a new series of musings on AI agents, called \"In the Loop\".', 'language': 'en'}, page_content='\\n\\n\\nWhat is an AI agent?\\n\\n\\n\\n\\n\\n\\n\\n\\n\\n\\n\\n\\n\\n\\n\\n\\n\\n\\n\\n\\n\\n\\n\\n\\n\\n\\n\\n\\n\\n\\n\\n\\n\\n\\n\\n\\n\\n\\n\\n\\n\\n\\n\\n\\n\\n\\n\\n\\n\\n\\n\\n\\n\\n\\nSkip to content\\n\\n\\n\\n\\n\\n\\n\\n\\n\\n\\n\\n\\n\\n\\n\\n\\nCase Studies\\n\\n\\n\\n\\nIn the Loop\\n\\n\\n\\n\\nLangChain\\n\\n\\n\\n\\nDocs\\n\\n\\n\\n\\nChangelog\\n\\n\\n\\n\\n\\nSign in\\nSubscribe\\n\\n\\n\\n\\n\\n\\n\\n\\n\\n\\n\\n\\n\\n\\n\\n\\n\\n\\n\\nWhat is an AI agent?\\nIntroducing a new series of musings on AI agents, called \"In the Loop\".\\n\\nHarrison Chase\\n4 min read\\nJun 28, 2024\\n\\n\\n\\n\\n\\n“What is an agent?”I get asked this question almost daily. At LangChain, we build tools to help developers build LLM applications, especially those that act as a reasoning engines and interact with external sources of data and computation. This includes systems that are commonly referred to as “agents”.Everyone seems to have a slightly different definition of what an AI agent is. My definition is perhaps more technical than most: 💡An AI agent is a system that uses an LLM to decide the control flow of an application.Even here, I’ll admit that my definition is not perfect. People often think of agents as advanced, autonomous, and human-like —\\xa0but what about a simple system where an LLM routes between two different paths? This fits my technical definition, but not the common perception of what an agent should be capable of. It’s hard to define exactly what an agent is!That’s why I really liked Andrew Ng’s tweet last week. In it he suggests that “rather than arguing over which work to include or exclude as being a true AI agent, we can acknowledge that there are different degrees to which systems can be agentic.” Just like autonomous vehicles, for example, have levels of autonomy, we can also view AI agent capabilities as a spectrum. I really agree with this viewpoint and I think Andrew expressed it nicely. In the future, when I get asked about what an agent is, I will instead turn the conversation to discuss what it means to be “agentic”.What does it mean to be agentic?I gave a TED talk last year about LLM systems and used the slide below to talk about the different levels of autonomy present in LLM applications.A system is more “agentic” the more an LLM decides how the system can behave.Using an LLM to route inputs into a particular downstream workflow has some small amount of “agentic” behavior. This would fall into the Router category in the above diagram.If you do use multiple LLMs to do multiple routing steps? This would be somewhere between Router and State Machine.If one of those steps is then determining whether to continue or finish - effectively allowing the system to run in a loop until finished? That would fall into State Machine.If the system is building tools, remembering those, and then taking those in future steps? That is similar to what the Voyager paper implemented, and is incredibly agentic, falling into the higher Autonomous Agent category.These definitions of “agentic” are still pretty technical. I prefer the more technical definition of “agentic” because I think it’s useful when designing and describing LLM systems.Why is “agentic” a helpful concept?As with all concepts, it’s worth asking why we even need the concept of “agentic”. What does it help with?Having an idea of how agentic your system can guide your decision-making during the development process - including building it, running it, interacting with it, evaluating it, and even monitoring it.The more agentic your system is, the more an orchestration framework will help. If you are designing a complex agentic system, having a framework with the right abstractions for thinking about these concepts can enable faster development. This framework should have first-class support for branching logic and cycles.The more agentic your system is, the harder it is to run. It will be more and more complex, having some tasks that will take a long time to complete. This means you will want to run jobs as background runs. This also means you want durable execution to handle any errors that occur halfway through.The more agentic your system is, the more you will want to interact with it while it’s running. You’ll want the ability to observe what is going on inside, since the exact steps taken may not be known ahead of time. You’ll want the ability to modify the state or instructions of the agent at a particular point in time, to nudge it back on track if it’s deviating from the intended path.The more agentic your system is, the more you will want an evaluation framework built for these types of applications. You’ll want to run evals multiple times, since there is compounding amount of randomness. You’ll want the ability to test not only the final output but also the intermediate steps to test how efficient the agent is behaving.The more agentic your system is, the more you will want a new type of monitoring framework. You’ll want the ability to drill down into all the steps an agent takes. You’ll also want the ability to query for runs based on steps an agent takes.Understanding and leveraging the spectrum of agentic capabilities in your system can improve the efficiency and robustness of your development process.Agentic is newOne thing that I often think about is what is actually new in all this craze. Do we need new tooling and new infrastructure for the LLM applications people are building? Or will generic tools and infrastructure from pre-LLM days suffice?To me, the more agentic your application is, the more critical it is to have new tooling and infrastructure. That’s exactly what motivated us to build LangGraph, the agent orchestrator to help with building, running, and interacting with agents, and LangSmith, the testing and observability platform for LLM apps. As we move further on the agentic spectrum, the entire ecosystem of supportive tooling needs to be reimagined.\\n\\n\\nTags\\nHarrison ChaseIn the Loop\\n\\n\\nJoin our newsletter\\nUpdates from the LangChain team and community\\n\\n\\nEnter your email\\n\\nSubscribe\\n\\nProcessing your application...\\nSuccess! Please check your inbox and click the link to confirm your subscription.\\nSorry, something went wrong. Please try again.\\n\\n\\n\\n\\n\\nYou might also like\\n\\n\\n\\n\\n\\n\\n\\n\\n\\n\\nCommunication is all you need\\n\\n\\nIn the Loop\\n7 min read\\n\\n\\n\\n\\n\\n\\n\\n\\n\\n\\n\\n\\nLangChain\\'s Second Birthday\\n\\n\\nHarrison Chase\\n6 min read\\n\\n\\n\\n\\n\\n\\n\\n\\n\\n\\n\\n\\nMemory for agents\\n\\n\\nIn the Loop\\n5 min read\\n\\n\\n\\n\\n\\n\\n\\n\\n\\n\\n\\n\\nUX for Agents, Part 3: Spreadsheet, Generative, and Collaborative UI/UX\\n\\n\\nIn the Loop\\n4 min read\\n\\n\\n\\n\\n\\n\\n\\n\\n\\n\\n\\n\\nUX for Agents, Part 2: Ambient\\n\\n\\nIn the Loop\\n4 min read\\n\\n\\n\\n\\n\\n\\n\\n\\n\\n\\n\\n\\nUX for Agents, Part 1: Chat\\n\\n\\nIn the Loop\\n4 min read\\n\\n\\n\\n\\n\\n\\n\\n\\n\\n\\n\\n\\n\\n\\nSign up\\n\\n\\n\\n\\n\\n            © LangChain Blog 2025\\n        \\n\\n\\n\\n\\n\\n\\n')]]"
      ]
     },
     "execution_count": 17,
     "metadata": {},
     "output_type": "execute_result"
    }
   ],
   "source": [
    "docs"
   ]
  },
  {
   "cell_type": "code",
   "execution_count": 18,
   "metadata": {},
   "outputs": [
    {
     "data": {
      "text/plain": [
       "[Document(metadata={'source': 'https://python.langchain.com/v0.1/docs/modules/agents/', 'title': 'Agents | 🦜️🔗 LangChain', 'description': 'The core idea of agents is to use a language model to choose a sequence of actions to take.', 'language': 'en'}, page_content='\\n\\n\\n\\n\\nAgents | 🦜️🔗 LangChain\\n\\n\\n\\n\\n\\n\\n\\nSkip to main contentThis is documentation for LangChain v0.1, which is no longer actively maintained. Check out the docs for the latest version here.ComponentsIntegrationsGuidesAPI ReferenceMorePeopleVersioningContributingTemplatesCookbooksTutorialsYouTubev0.1Latestv0.2v0.1🦜️🔗LangSmithLangSmith DocsLangServe GitHubTemplates GitHubTemplates HubLangChain HubJS/TS Docs💬SearchModel I/OPromptsChat modelsLLMsOutput parsersRetrievalDocument loadersText splittersEmbedding modelsVector storesRetrieversIndexingCompositionToolsAgentsQuickstartConceptsTypesAgentshow_toChainsMoreComponentsThis is documentation for LangChain v0.1, which is no longer actively maintained.For the current stable version, see this version (Latest).CompositionAgentsOn this pageAgentsThe core idea of agents is to use a language model to choose a sequence of actions to take.\\nIn chains, a sequence of actions is hardcoded (in code).\\nIn agents, a language model is used as a reasoning engine to determine which actions to take and in which order.Quickstart\\u200bFor a quick start to working with agents, please check out this getting started guide. This covers basics like initializing an agent, creating tools, and adding memory.Concepts\\u200bThere are several key concepts to understand when building agents: Agents, AgentExecutor, Tools, Toolkits.\\nFor an in depth explanation, please check out this conceptual guideAgent Types\\u200bThere are many different types of agents to use. For a overview of the different types and when to use them, please check out this section.Tools\\u200bAgents are only as good as the tools they have. For a comprehensive guide on tools, please see this section.How To Guides\\u200bAgents have a lot of related functionality! Check out comprehensive guides including:Building a custom agentStreaming (of both intermediate steps and tokens)Building an agent that returns structured outputLots functionality around using AgentExecutor, including: using it as an iterator, handle parsing errors, returning intermediate steps, capping the max number of iterations, and timeouts for agentsHelp us out by providing feedback on this documentation page:PreviousTools as OpenAI FunctionsNextQuickstartQuickstartConceptsAgent TypesToolsHow To GuidesCommunityDiscordTwitterGitHubPythonJS/TSMoreHomepageBlogYouTubeCopyright © 2024 LangChain, Inc.\\n\\n\\n\\n')]"
      ]
     },
     "execution_count": 18,
     "metadata": {},
     "output_type": "execute_result"
    }
   ],
   "source": [
    "docs[0]"
   ]
  },
  {
   "cell_type": "code",
   "execution_count": 19,
   "metadata": {},
   "outputs": [
    {
     "data": {
      "text/plain": [
       "{'source': 'https://python.langchain.com/v0.1/docs/modules/agents/',\n",
       " 'title': 'Agents | 🦜️🔗 LangChain',\n",
       " 'description': 'The core idea of agents is to use a language model to choose a sequence of actions to take.',\n",
       " 'language': 'en'}"
      ]
     },
     "execution_count": 19,
     "metadata": {},
     "output_type": "execute_result"
    }
   ],
   "source": [
    "docs[0][0].metadata"
   ]
  },
  {
   "cell_type": "code",
   "execution_count": 20,
   "metadata": {},
   "outputs": [],
   "source": [
    "docs_list = [item for sublist in docs for item in sublist]"
   ]
  },
  {
   "cell_type": "code",
   "execution_count": 23,
   "metadata": {},
   "outputs": [
    {
     "data": {
      "text/plain": [
       "[Document(metadata={'source': 'https://python.langchain.com/v0.1/docs/modules/agents/', 'title': 'Agents | 🦜️🔗 LangChain', 'description': 'The core idea of agents is to use a language model to choose a sequence of actions to take.', 'language': 'en'}, page_content='\\n\\n\\n\\n\\nAgents | 🦜️🔗 LangChain\\n\\n\\n\\n\\n\\n\\n\\nSkip to main contentThis is documentation for LangChain v0.1, which is no longer actively maintained. Check out the docs for the latest version here.ComponentsIntegrationsGuidesAPI ReferenceMorePeopleVersioningContributingTemplatesCookbooksTutorialsYouTubev0.1Latestv0.2v0.1🦜️🔗LangSmithLangSmith DocsLangServe GitHubTemplates GitHubTemplates HubLangChain HubJS/TS Docs💬SearchModel I/OPromptsChat modelsLLMsOutput parsersRetrievalDocument loadersText splittersEmbedding modelsVector storesRetrieversIndexingCompositionToolsAgentsQuickstartConceptsTypesAgentshow_toChainsMoreComponentsThis is documentation for LangChain v0.1, which is no longer actively maintained.For the current stable version, see this version (Latest).CompositionAgentsOn this pageAgentsThe core idea of agents is to use a language model to choose a sequence of actions to take.\\nIn chains, a sequence of actions is hardcoded (in code).\\nIn agents, a language model is used as a reasoning engine to determine which actions to take and in which order.Quickstart\\u200bFor a quick start to working with agents, please check out this getting started guide. This covers basics like initializing an agent, creating tools, and adding memory.Concepts\\u200bThere are several key concepts to understand when building agents: Agents, AgentExecutor, Tools, Toolkits.\\nFor an in depth explanation, please check out this conceptual guideAgent Types\\u200bThere are many different types of agents to use. For a overview of the different types and when to use them, please check out this section.Tools\\u200bAgents are only as good as the tools they have. For a comprehensive guide on tools, please see this section.How To Guides\\u200bAgents have a lot of related functionality! Check out comprehensive guides including:Building a custom agentStreaming (of both intermediate steps and tokens)Building an agent that returns structured outputLots functionality around using AgentExecutor, including: using it as an iterator, handle parsing errors, returning intermediate steps, capping the max number of iterations, and timeouts for agentsHelp us out by providing feedback on this documentation page:PreviousTools as OpenAI FunctionsNextQuickstartQuickstartConceptsAgent TypesToolsHow To GuidesCommunityDiscordTwitterGitHubPythonJS/TSMoreHomepageBlogYouTubeCopyright © 2024 LangChain, Inc.\\n\\n\\n\\n'),\n",
       " Document(metadata={'source': 'https://blog.langchain.dev/what-is-an-agent/', 'title': 'What is an AI agent?', 'description': 'Introducing a new series of musings on AI agents, called \"In the Loop\".', 'language': 'en'}, page_content='\\n\\n\\nWhat is an AI agent?\\n\\n\\n\\n\\n\\n\\n\\n\\n\\n\\n\\n\\n\\n\\n\\n\\n\\n\\n\\n\\n\\n\\n\\n\\n\\n\\n\\n\\n\\n\\n\\n\\n\\n\\n\\n\\n\\n\\n\\n\\n\\n\\n\\n\\n\\n\\n\\n\\n\\n\\n\\n\\n\\n\\nSkip to content\\n\\n\\n\\n\\n\\n\\n\\n\\n\\n\\n\\n\\n\\n\\n\\n\\nCase Studies\\n\\n\\n\\n\\nIn the Loop\\n\\n\\n\\n\\nLangChain\\n\\n\\n\\n\\nDocs\\n\\n\\n\\n\\nChangelog\\n\\n\\n\\n\\n\\nSign in\\nSubscribe\\n\\n\\n\\n\\n\\n\\n\\n\\n\\n\\n\\n\\n\\n\\n\\n\\n\\n\\n\\nWhat is an AI agent?\\nIntroducing a new series of musings on AI agents, called \"In the Loop\".\\n\\nHarrison Chase\\n4 min read\\nJun 28, 2024\\n\\n\\n\\n\\n\\n“What is an agent?”I get asked this question almost daily. At LangChain, we build tools to help developers build LLM applications, especially those that act as a reasoning engines and interact with external sources of data and computation. This includes systems that are commonly referred to as “agents”.Everyone seems to have a slightly different definition of what an AI agent is. My definition is perhaps more technical than most: 💡An AI agent is a system that uses an LLM to decide the control flow of an application.Even here, I’ll admit that my definition is not perfect. People often think of agents as advanced, autonomous, and human-like —\\xa0but what about a simple system where an LLM routes between two different paths? This fits my technical definition, but not the common perception of what an agent should be capable of. It’s hard to define exactly what an agent is!That’s why I really liked Andrew Ng’s tweet last week. In it he suggests that “rather than arguing over which work to include or exclude as being a true AI agent, we can acknowledge that there are different degrees to which systems can be agentic.” Just like autonomous vehicles, for example, have levels of autonomy, we can also view AI agent capabilities as a spectrum. I really agree with this viewpoint and I think Andrew expressed it nicely. In the future, when I get asked about what an agent is, I will instead turn the conversation to discuss what it means to be “agentic”.What does it mean to be agentic?I gave a TED talk last year about LLM systems and used the slide below to talk about the different levels of autonomy present in LLM applications.A system is more “agentic” the more an LLM decides how the system can behave.Using an LLM to route inputs into a particular downstream workflow has some small amount of “agentic” behavior. This would fall into the Router category in the above diagram.If you do use multiple LLMs to do multiple routing steps? This would be somewhere between Router and State Machine.If one of those steps is then determining whether to continue or finish - effectively allowing the system to run in a loop until finished? That would fall into State Machine.If the system is building tools, remembering those, and then taking those in future steps? That is similar to what the Voyager paper implemented, and is incredibly agentic, falling into the higher Autonomous Agent category.These definitions of “agentic” are still pretty technical. I prefer the more technical definition of “agentic” because I think it’s useful when designing and describing LLM systems.Why is “agentic” a helpful concept?As with all concepts, it’s worth asking why we even need the concept of “agentic”. What does it help with?Having an idea of how agentic your system can guide your decision-making during the development process - including building it, running it, interacting with it, evaluating it, and even monitoring it.The more agentic your system is, the more an orchestration framework will help. If you are designing a complex agentic system, having a framework with the right abstractions for thinking about these concepts can enable faster development. This framework should have first-class support for branching logic and cycles.The more agentic your system is, the harder it is to run. It will be more and more complex, having some tasks that will take a long time to complete. This means you will want to run jobs as background runs. This also means you want durable execution to handle any errors that occur halfway through.The more agentic your system is, the more you will want to interact with it while it’s running. You’ll want the ability to observe what is going on inside, since the exact steps taken may not be known ahead of time. You’ll want the ability to modify the state or instructions of the agent at a particular point in time, to nudge it back on track if it’s deviating from the intended path.The more agentic your system is, the more you will want an evaluation framework built for these types of applications. You’ll want to run evals multiple times, since there is compounding amount of randomness. You’ll want the ability to test not only the final output but also the intermediate steps to test how efficient the agent is behaving.The more agentic your system is, the more you will want a new type of monitoring framework. You’ll want the ability to drill down into all the steps an agent takes. You’ll also want the ability to query for runs based on steps an agent takes.Understanding and leveraging the spectrum of agentic capabilities in your system can improve the efficiency and robustness of your development process.Agentic is newOne thing that I often think about is what is actually new in all this craze. Do we need new tooling and new infrastructure for the LLM applications people are building? Or will generic tools and infrastructure from pre-LLM days suffice?To me, the more agentic your application is, the more critical it is to have new tooling and infrastructure. That’s exactly what motivated us to build LangGraph, the agent orchestrator to help with building, running, and interacting with agents, and LangSmith, the testing and observability platform for LLM apps. As we move further on the agentic spectrum, the entire ecosystem of supportive tooling needs to be reimagined.\\n\\n\\nTags\\nHarrison ChaseIn the Loop\\n\\n\\nJoin our newsletter\\nUpdates from the LangChain team and community\\n\\n\\nEnter your email\\n\\nSubscribe\\n\\nProcessing your application...\\nSuccess! Please check your inbox and click the link to confirm your subscription.\\nSorry, something went wrong. Please try again.\\n\\n\\n\\n\\n\\nYou might also like\\n\\n\\n\\n\\n\\n\\n\\n\\n\\n\\nCommunication is all you need\\n\\n\\nIn the Loop\\n7 min read\\n\\n\\n\\n\\n\\n\\n\\n\\n\\n\\n\\n\\nLangChain\\'s Second Birthday\\n\\n\\nHarrison Chase\\n6 min read\\n\\n\\n\\n\\n\\n\\n\\n\\n\\n\\n\\n\\nMemory for agents\\n\\n\\nIn the Loop\\n5 min read\\n\\n\\n\\n\\n\\n\\n\\n\\n\\n\\n\\n\\nUX for Agents, Part 3: Spreadsheet, Generative, and Collaborative UI/UX\\n\\n\\nIn the Loop\\n4 min read\\n\\n\\n\\n\\n\\n\\n\\n\\n\\n\\n\\n\\nUX for Agents, Part 2: Ambient\\n\\n\\nIn the Loop\\n4 min read\\n\\n\\n\\n\\n\\n\\n\\n\\n\\n\\n\\n\\nUX for Agents, Part 1: Chat\\n\\n\\nIn the Loop\\n4 min read\\n\\n\\n\\n\\n\\n\\n\\n\\n\\n\\n\\n\\n\\n\\nSign up\\n\\n\\n\\n\\n\\n            © LangChain Blog 2025\\n        \\n\\n\\n\\n\\n\\n\\n')]"
      ]
     },
     "execution_count": 23,
     "metadata": {},
     "output_type": "execute_result"
    }
   ],
   "source": [
    "docs_list"
   ]
  },
  {
   "cell_type": "code",
   "execution_count": 24,
   "metadata": {},
   "outputs": [],
   "source": [
    "#Chunking\n",
    "\n",
    "text_splitter = RecursiveCharacterTextSplitter.from_tiktoken_encoder(chunk_size=100,chunk_overlap=5)"
   ]
  },
  {
   "cell_type": "code",
   "execution_count": 25,
   "metadata": {},
   "outputs": [],
   "source": [
    "doc_splits = text_splitter.split_documents(docs_list)"
   ]
  },
  {
   "cell_type": "code",
   "execution_count": 26,
   "metadata": {},
   "outputs": [
    {
     "data": {
      "text/plain": [
       "[Document(metadata={'source': 'https://python.langchain.com/v0.1/docs/modules/agents/', 'title': 'Agents | 🦜️🔗 LangChain', 'description': 'The core idea of agents is to use a language model to choose a sequence of actions to take.', 'language': 'en'}, page_content='Agents | 🦜️🔗 LangChain'),\n",
       " Document(metadata={'source': 'https://python.langchain.com/v0.1/docs/modules/agents/', 'title': 'Agents | 🦜️🔗 LangChain', 'description': 'The core idea of agents is to use a language model to choose a sequence of actions to take.', 'language': 'en'}, page_content='Skip to main contentThis is documentation for LangChain v0.1, which is no longer actively maintained. Check out the docs for the latest version here.ComponentsIntegrationsGuidesAPI ReferenceMorePeopleVersioningContributingTemplatesCookbooksTutorialsYouTubev0.1Latestv0.2v0.1🦜️🔗LangSmithLangSmith DocsLangServe GitHubTemplates GitHubTemplates HubLangChain'),\n",
       " Document(metadata={'source': 'https://python.langchain.com/v0.1/docs/modules/agents/', 'title': 'Agents | 🦜️🔗 LangChain', 'description': 'The core idea of agents is to use a language model to choose a sequence of actions to take.', 'language': 'en'}, page_content='HubLangChain HubJS/TS Docs💬SearchModel I/OPromptsChat modelsLLMsOutput parsersRetrievalDocument loadersText splittersEmbedding modelsVector storesRetrieversIndexingCompositionToolsAgentsQuickstartConceptsTypesAgentshow_toChainsMoreComponentsThis is documentation for LangChain v0.1, which is no longer actively maintained.For the current stable version, see this version'),\n",
       " Document(metadata={'source': 'https://python.langchain.com/v0.1/docs/modules/agents/', 'title': 'Agents | 🦜️🔗 LangChain', 'description': 'The core idea of agents is to use a language model to choose a sequence of actions to take.', 'language': 'en'}, page_content='version, see this version (Latest).CompositionAgentsOn this pageAgentsThe core idea of agents is to use a language model to choose a sequence of actions to take.'),\n",
       " Document(metadata={'source': 'https://python.langchain.com/v0.1/docs/modules/agents/', 'title': 'Agents | 🦜️🔗 LangChain', 'description': 'The core idea of agents is to use a language model to choose a sequence of actions to take.', 'language': 'en'}, page_content='In chains, a sequence of actions is hardcoded (in code).'),\n",
       " Document(metadata={'source': 'https://python.langchain.com/v0.1/docs/modules/agents/', 'title': 'Agents | 🦜️🔗 LangChain', 'description': 'The core idea of agents is to use a language model to choose a sequence of actions to take.', 'language': 'en'}, page_content='In agents, a language model is used as a reasoning engine to determine which actions to take and in which order.Quickstart\\u200bFor a quick start to working with agents, please check out this getting started guide. This covers basics like initializing an agent, creating tools, and adding memory.Concepts\\u200bThere are several key concepts to understand when building agents: Agents, AgentExecutor, Tools, Toolkits.'),\n",
       " Document(metadata={'source': 'https://python.langchain.com/v0.1/docs/modules/agents/', 'title': 'Agents | 🦜️🔗 LangChain', 'description': 'The core idea of agents is to use a language model to choose a sequence of actions to take.', 'language': 'en'}, page_content='For an in depth explanation, please check out this conceptual guideAgent Types\\u200bThere are many different types of agents to use. For a overview of the different types and when to use them, please check out this section.Tools\\u200bAgents are only as good as the tools they have. For a comprehensive guide on tools, please see this section.How To Guides\\u200bAgents have a lot of related functionality! Check out comprehensive guides including:Building a custom agentStreaming (of both intermediate'),\n",
       " Document(metadata={'source': 'https://python.langchain.com/v0.1/docs/modules/agents/', 'title': 'Agents | 🦜️🔗 LangChain', 'description': 'The core idea of agents is to use a language model to choose a sequence of actions to take.', 'language': 'en'}, page_content='(of both intermediate steps and tokens)Building an agent that returns structured outputLots functionality around using AgentExecutor, including: using it as an iterator, handle parsing errors, returning intermediate steps, capping the max number of iterations, and timeouts for agentsHelp us out by providing feedback on this documentation page:PreviousTools as OpenAI FunctionsNextQuickstartQuickstartConceptsAgent TypesToolsHow To GuidesCommunityDiscordTwitterGitHubPythonJS/TSMoreHomepageBlogYouTubeCopyright'),\n",
       " Document(metadata={'source': 'https://python.langchain.com/v0.1/docs/modules/agents/', 'title': 'Agents | 🦜️🔗 LangChain', 'description': 'The core idea of agents is to use a language model to choose a sequence of actions to take.', 'language': 'en'}, page_content='© 2024 LangChain, Inc.'),\n",
       " Document(metadata={'source': 'https://blog.langchain.dev/what-is-an-agent/', 'title': 'What is an AI agent?', 'description': 'Introducing a new series of musings on AI agents, called \"In the Loop\".', 'language': 'en'}, page_content='What is an AI agent?\\n\\n\\n\\n\\n\\n\\n\\n\\n\\n\\n\\n\\n\\n\\n\\n\\n\\n\\n\\n\\n\\n\\n\\n\\n\\n\\n\\n\\n\\n\\n\\n\\n\\n\\n\\n\\n\\n\\n\\n\\n\\n\\n\\n\\n\\n\\n\\n\\n\\n\\n\\n\\n\\n\\nSkip to content\\n\\n\\n\\n\\n\\n\\n\\n\\n\\n\\n\\n\\n\\n\\n\\n\\nCase Studies\\n\\n\\n\\n\\nIn the Loop\\n\\n\\n\\n\\nLangChain\\n\\n\\n\\n\\nDocs\\n\\n\\n\\n\\nChangelog\\n\\n\\n\\n\\n\\nSign in\\nSubscribe'),\n",
       " Document(metadata={'source': 'https://blog.langchain.dev/what-is-an-agent/', 'title': 'What is an AI agent?', 'description': 'Introducing a new series of musings on AI agents, called \"In the Loop\".', 'language': 'en'}, page_content='What is an AI agent?\\nIntroducing a new series of musings on AI agents, called \"In the Loop\".\\n\\nHarrison Chase\\n4 min read\\nJun 28, 2024'),\n",
       " Document(metadata={'source': 'https://blog.langchain.dev/what-is-an-agent/', 'title': 'What is an AI agent?', 'description': 'Introducing a new series of musings on AI agents, called \"In the Loop\".', 'language': 'en'}, page_content='“What is an agent?”I get asked this question almost daily. At LangChain, we build tools to help developers build LLM applications, especially those that act as a reasoning engines and interact with external sources of data and computation. This includes systems that are commonly referred to as “agents”.Everyone seems to have a slightly different definition of what an AI agent is. My definition is perhaps more technical than most: 💡An AI agent is a system that'),\n",
       " Document(metadata={'source': 'https://blog.langchain.dev/what-is-an-agent/', 'title': 'What is an AI agent?', 'description': 'Introducing a new series of musings on AI agents, called \"In the Loop\".', 'language': 'en'}, page_content='agent is a system that uses an LLM to decide the control flow of an application.Even here, I’ll admit that my definition is not perfect. People often think of agents as advanced, autonomous, and human-like —\\xa0but what about a simple system where an LLM routes between two different paths? This fits my technical definition, but not the common perception of what an agent should be capable of. It’s hard to define exactly what an agent'),\n",
       " Document(metadata={'source': 'https://blog.langchain.dev/what-is-an-agent/', 'title': 'What is an AI agent?', 'description': 'Introducing a new series of musings on AI agents, called \"In the Loop\".', 'language': 'en'}, page_content='define exactly what an agent is!That’s why I really liked Andrew Ng’s tweet last week. In it he suggests that “rather than arguing over which work to include or exclude as being a true AI agent, we can acknowledge that there are different degrees to which systems can be agentic.” Just like autonomous vehicles, for example, have levels of autonomy, we can also view AI agent capabilities as a spectrum. I really agree with this viewpoint and I think Andrew'),\n",
       " Document(metadata={'source': 'https://blog.langchain.dev/what-is-an-agent/', 'title': 'What is an AI agent?', 'description': 'Introducing a new series of musings on AI agents, called \"In the Loop\".', 'language': 'en'}, page_content='viewpoint and I think Andrew expressed it nicely. In the future, when I get asked about what an agent is, I will instead turn the conversation to discuss what it means to be “agentic”.What does it mean to be agentic?I gave a TED talk last year about LLM systems and used the slide below to talk about the different levels of autonomy present in LLM applications.A system is more “agentic” the more an LLM decides how the'),\n",
       " Document(metadata={'source': 'https://blog.langchain.dev/what-is-an-agent/', 'title': 'What is an AI agent?', 'description': 'Introducing a new series of musings on AI agents, called \"In the Loop\".', 'language': 'en'}, page_content='LLM decides how the system can behave.Using an LLM to route inputs into a particular downstream workflow has some small amount of “agentic” behavior. This would fall into the Router category in the above diagram.If you do use multiple LLMs to do multiple routing steps? This would be somewhere between Router and State Machine.If one of those steps is then determining whether to continue or finish - effectively allowing the system to run in a loop until finished? That would fall into State'),\n",
       " Document(metadata={'source': 'https://blog.langchain.dev/what-is-an-agent/', 'title': 'What is an AI agent?', 'description': 'Introducing a new series of musings on AI agents, called \"In the Loop\".', 'language': 'en'}, page_content='That would fall into State Machine.If the system is building tools, remembering those, and then taking those in future steps? That is similar to what the Voyager paper implemented, and is incredibly agentic, falling into the higher Autonomous Agent category.These definitions of “agentic” are still pretty technical. I prefer the more technical definition of “agentic” because I think it’s useful when designing and describing LLM systems.Why is'),\n",
       " Document(metadata={'source': 'https://blog.langchain.dev/what-is-an-agent/', 'title': 'What is an AI agent?', 'description': 'Introducing a new series of musings on AI agents, called \"In the Loop\".', 'language': 'en'}, page_content='systems.Why is “agentic” a helpful concept?As with all concepts, it’s worth asking why we even need the concept of “agentic”. What does it help with?Having an idea of how agentic your system can guide your decision-making during the development process - including building it, running it, interacting with it, evaluating it, and even monitoring it.The more agentic your system is, the more an orchestration framework will'),\n",
       " Document(metadata={'source': 'https://blog.langchain.dev/what-is-an-agent/', 'title': 'What is an AI agent?', 'description': 'Introducing a new series of musings on AI agents, called \"In the Loop\".', 'language': 'en'}, page_content='an orchestration framework will help. If you are designing a complex agentic system, having a framework with the right abstractions for thinking about these concepts can enable faster development. This framework should have first-class support for branching logic and cycles.The more agentic your system is, the harder it is to run. It will be more and more complex, having some tasks that will take a long time to complete. This means you will want to run jobs as background runs. This also means you'),\n",
       " Document(metadata={'source': 'https://blog.langchain.dev/what-is-an-agent/', 'title': 'What is an AI agent?', 'description': 'Introducing a new series of musings on AI agents, called \"In the Loop\".', 'language': 'en'}, page_content='This also means you want durable execution to handle any errors that occur halfway through.The more agentic your system is, the more you will want to interact with it while it’s running. You’ll want the ability to observe what is going on inside, since the exact steps taken may not be known ahead of time. You’ll want the ability to modify the state or instructions of the agent at a particular point in time, to nudge it back on track if'),\n",
       " Document(metadata={'source': 'https://blog.langchain.dev/what-is-an-agent/', 'title': 'What is an AI agent?', 'description': 'Introducing a new series of musings on AI agents, called \"In the Loop\".', 'language': 'en'}, page_content='it back on track if it’s deviating from the intended path.The more agentic your system is, the more you will want an evaluation framework built for these types of applications. You’ll want to run evals multiple times, since there is compounding amount of randomness. You’ll want the ability to test not only the final output but also the intermediate steps to test how efficient the agent is behaving.The more agentic your system is, the more you'),\n",
       " Document(metadata={'source': 'https://blog.langchain.dev/what-is-an-agent/', 'title': 'What is an AI agent?', 'description': 'Introducing a new series of musings on AI agents, called \"In the Loop\".', 'language': 'en'}, page_content='is, the more you will want a new type of monitoring framework. You’ll want the ability to drill down into all the steps an agent takes. You’ll also want the ability to query for runs based on steps an agent takes.Understanding and leveraging the spectrum of agentic capabilities in your system can improve the efficiency and robustness of your development process.Agentic is newOne thing that I often think about is what is actually new in all this craze. Do we need'),\n",
       " Document(metadata={'source': 'https://blog.langchain.dev/what-is-an-agent/', 'title': 'What is an AI agent?', 'description': 'Introducing a new series of musings on AI agents, called \"In the Loop\".', 'language': 'en'}, page_content='Do we need new tooling and new infrastructure for the LLM applications people are building? Or will generic tools and infrastructure from pre-LLM days suffice?To me, the more agentic your application is, the more critical it is to have new tooling and infrastructure. That’s exactly what motivated us to build LangGraph, the agent orchestrator to help with building, running, and interacting with agents, and LangSmith, the testing and observability platform for LLM apps.'),\n",
       " Document(metadata={'source': 'https://blog.langchain.dev/what-is-an-agent/', 'title': 'What is an AI agent?', 'description': 'Introducing a new series of musings on AI agents, called \"In the Loop\".', 'language': 'en'}, page_content='for LLM apps. As we move further on the agentic spectrum, the entire ecosystem of supportive tooling needs to be reimagined.'),\n",
       " Document(metadata={'source': 'https://blog.langchain.dev/what-is-an-agent/', 'title': 'What is an AI agent?', 'description': 'Introducing a new series of musings on AI agents, called \"In the Loop\".', 'language': 'en'}, page_content='Tags\\nHarrison ChaseIn the Loop\\n\\n\\nJoin our newsletter\\nUpdates from the LangChain team and community\\n\\n\\nEnter your email\\n\\nSubscribe\\n\\nProcessing your application...\\nSuccess! Please check your inbox and click the link to confirm your subscription.\\nSorry, something went wrong. Please try again.\\n\\n\\n\\n\\n\\nYou might also like\\n\\n\\n\\n\\n\\n\\n\\n\\n\\n\\nCommunication is all you need\\n\\n\\nIn the Loop\\n7 min read'),\n",
       " Document(metadata={'source': 'https://blog.langchain.dev/what-is-an-agent/', 'title': 'What is an AI agent?', 'description': 'Introducing a new series of musings on AI agents, called \"In the Loop\".', 'language': 'en'}, page_content=\"LangChain's Second Birthday\\n\\n\\nHarrison Chase\\n6 min read\\n\\n\\n\\n\\n\\n\\n\\n\\n\\n\\n\\n\\nMemory for agents\\n\\n\\nIn the Loop\\n5 min read\\n\\n\\n\\n\\n\\n\\n\\n\\n\\n\\n\\n\\nUX for Agents, Part 3: Spreadsheet, Generative, and Collaborative UI/UX\\n\\n\\nIn the Loop\\n4 min read\\n\\n\\n\\n\\n\\n\\n\\n\\n\\n\\n\\n\\nUX for Agents, Part 2: Ambient\"),\n",
       " Document(metadata={'source': 'https://blog.langchain.dev/what-is-an-agent/', 'title': 'What is an AI agent?', 'description': 'Introducing a new series of musings on AI agents, called \"In the Loop\".', 'language': 'en'}, page_content='In the Loop\\n4 min read\\n\\n\\n\\n\\n\\n\\n\\n\\n\\n\\n\\n\\nUX for Agents, Part 1: Chat\\n\\n\\nIn the Loop\\n4 min read\\n\\n\\n\\n\\n\\n\\n\\n\\n\\n\\n\\n\\n\\n\\nSign up\\n\\n\\n\\n\\n\\n            © LangChain Blog 2025')]"
      ]
     },
     "execution_count": 26,
     "metadata": {},
     "output_type": "execute_result"
    }
   ],
   "source": [
    "doc_splits"
   ]
  },
  {
   "cell_type": "code",
   "execution_count": 28,
   "metadata": {},
   "outputs": [],
   "source": [
    "#Retrieve operation using Chromadb\n",
    "vectorstore = Chroma.from_documents(\n",
    "    documents = doc_splits,\n",
    "    collection_name = \"RAG_CHROMA\",\n",
    "    embedding = embedding\n",
    ")"
   ]
  },
  {
   "cell_type": "code",
   "execution_count": 29,
   "metadata": {},
   "outputs": [],
   "source": [
    "retriever = vectorstore.as_retriever()"
   ]
  },
  {
   "cell_type": "code",
   "execution_count": null,
   "metadata": {},
   "outputs": [],
   "source": []
  },
  {
   "cell_type": "code",
   "execution_count": 27,
   "metadata": {},
   "outputs": [
    {
     "data": {
      "text/plain": [
       "27"
      ]
     },
     "execution_count": 27,
     "metadata": {},
     "output_type": "execute_result"
    }
   ],
   "source": [
    "len(doc_splits)"
   ]
  },
  {
   "cell_type": "code",
   "execution_count": 8,
   "metadata": {},
   "outputs": [],
   "source": [
    "def AI_ASSISTANT(state):\n",
    "    pass"
   ]
  },
  {
   "cell_type": "code",
   "execution_count": 9,
   "metadata": {},
   "outputs": [],
   "source": [
    "def RETRIEVER(state):\n",
    "    pass"
   ]
  },
  {
   "cell_type": "code",
   "execution_count": 10,
   "metadata": {},
   "outputs": [],
   "source": [
    "def REWRITER(state):\n",
    "    pass"
   ]
  },
  {
   "cell_type": "code",
   "execution_count": 11,
   "metadata": {},
   "outputs": [],
   "source": [
    "def GENERATE(state):\n",
    "    pass"
   ]
  },
  {
   "cell_type": "code",
   "execution_count": 12,
   "metadata": {},
   "outputs": [],
   "source": [
    "class AgentState:\n",
    "    pass"
   ]
  },
  {
   "cell_type": "code",
   "execution_count": 13,
   "metadata": {},
   "outputs": [
    {
     "data": {
      "text/plain": [
       "<langgraph.graph.state.StateGraph at 0x203c3ee3310>"
      ]
     },
     "execution_count": 13,
     "metadata": {},
     "output_type": "execute_result"
    }
   ],
   "source": [
    "#Create workflow\n",
    "workflow = StateGraph(AgentState)\n",
    "workflow.add_node(\"AI_ASTNT\",AI_ASSISTANT)\n",
    "workflow.add_node(\"RTVR\",RETRIEVER)\n",
    "workflow.add_node(\"RWRTR\",REWRITER)\n",
    "workflow.add_node(\"GNRTE\",GENERATE)"
   ]
  },
  {
   "cell_type": "code",
   "execution_count": 14,
   "metadata": {},
   "outputs": [
    {
     "ename": "TypeError",
     "evalue": "StateGraph.add_edge() missing 2 required positional arguments: 'start_key' and 'end_key'",
     "output_type": "error",
     "traceback": [
      "\u001b[1;31m---------------------------------------------------------------------------\u001b[0m",
      "\u001b[1;31mTypeError\u001b[0m                                 Traceback (most recent call last)",
      "Cell \u001b[1;32mIn[14], line 2\u001b[0m\n\u001b[0;32m      1\u001b[0m \u001b[38;5;66;03m#Edges\u001b[39;00m\n\u001b[1;32m----> 2\u001b[0m \u001b[43mworkflow\u001b[49m\u001b[38;5;241;43m.\u001b[39;49m\u001b[43madd_edge\u001b[49m\u001b[43m(\u001b[49m\u001b[43m)\u001b[49m\n\u001b[0;32m      3\u001b[0m workflow\u001b[38;5;241m.\u001b[39madd_conditional_edges()\n",
      "\u001b[1;31mTypeError\u001b[0m: StateGraph.add_edge() missing 2 required positional arguments: 'start_key' and 'end_key'"
     ]
    }
   ],
   "source": [
    "#Edges\n",
    "workflow.add_edge()\n",
    "workflow.add_conditional_edges()"
   ]
  },
  {
   "cell_type": "code",
   "execution_count": null,
   "metadata": {},
   "outputs": [],
   "source": [
    "#Compile workflow\n",
    "app = workflow.compile()"
   ]
  },
  {
   "cell_type": "code",
   "execution_count": null,
   "metadata": {},
   "outputs": [],
   "source": [
    "app.invoke(\"\")"
   ]
  }
 ],
 "metadata": {
  "kernelspec": {
   "display_name": "langgraph",
   "language": "python",
   "name": "python3"
  },
  "language_info": {
   "codemirror_mode": {
    "name": "ipython",
    "version": 3
   },
   "file_extension": ".py",
   "mimetype": "text/x-python",
   "name": "python",
   "nbconvert_exporter": "python",
   "pygments_lexer": "ipython3",
   "version": "3.10.16"
  }
 },
 "nbformat": 4,
 "nbformat_minor": 2
}
