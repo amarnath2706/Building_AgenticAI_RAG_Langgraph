{
 "cells": [
  {
   "cell_type": "code",
   "execution_count": 1,
   "metadata": {},
   "outputs": [
    {
     "name": "stderr",
     "output_type": "stream",
     "text": [
      "c:\\Users\\Toshiba\\anaconda3\\envs\\langgraph\\lib\\site-packages\\IPython\\core\\interactiveshell.py:3577: LangChainDeprecationWarning: As of langchain-core 0.3.0, LangChain uses pydantic v2 internally. The langchain_core.pydantic_v1 module was a compatibility shim for pydantic v1, and should no longer be used. Please update the code to import from Pydantic directly.\n",
      "\n",
      "For example, replace imports like: `from langchain_core.pydantic_v1 import BaseModel`\n",
      "with: `from pydantic import BaseModel`\n",
      "or the v1 compatibility namespace if you are working in a code base that has not been fully upgraded to pydantic 2 yet. \tfrom pydantic.v1 import BaseModel\n",
      "\n",
      "  exec(code_obj, self.user_global_ns, self.user_ns)\n",
      "USER_AGENT environment variable not set, consider setting it to identify your requests.\n"
     ]
    }
   ],
   "source": [
    "from typing import Annotated, Literal, Sequence, TypedDict\n",
    "from langchain import hub\n",
    "from langchain_core.messages import BaseMessage, HumanMessage\n",
    "from langchain_core.output_parsers import StrOutputParser\n",
    "from langchain_core.prompts import PromptTemplate\n",
    "from langchain_core.pydantic_v1 import BaseModel, Field\n",
    "from langgraph.graph.message import add_messages\n",
    "from langgraph.prebuilt import tools_condition\n",
    "from langchain_community.document_loaders import WebBaseLoader\n",
    "from langchain_community.vectorstores import Chroma\n",
    "from langchain_text_splitters import RecursiveCharacterTextSplitter\n",
    "from langchain.tools.retriever import create_retriever_tool\n",
    "from langgraph.graph import END, StateGraph, START\n",
    "from langgraph.prebuilt import ToolNode"
   ]
  },
  {
   "cell_type": "code",
   "execution_count": 2,
   "metadata": {},
   "outputs": [],
   "source": [
    "from langchain_huggingface import HuggingFaceEmbeddings"
   ]
  },
  {
   "cell_type": "code",
   "execution_count": 3,
   "metadata": {},
   "outputs": [
    {
     "data": {
      "application/vnd.jupyter.widget-view+json": {
       "model_id": "1bcaf98d14034642b990fbdc8e808552",
       "version_major": 2,
       "version_minor": 0
      },
      "text/plain": [
       "model.safetensors:  46%|####6     | 41.9M/90.9M [00:00<?, ?B/s]"
      ]
     },
     "metadata": {},
     "output_type": "display_data"
    },
    {
     "name": "stderr",
     "output_type": "stream",
     "text": [
      "c:\\Users\\Toshiba\\anaconda3\\envs\\langgraph\\lib\\site-packages\\huggingface_hub\\file_download.py:140: UserWarning: `huggingface_hub` cache-system uses symlinks by default to efficiently store duplicated files but your machine does not support them in C:\\Users\\Toshiba\\.cache\\huggingface\\hub\\models--sentence-transformers--all-MiniLM-L6-v2. Caching files will still work but in a degraded version that might require more space on your disk. This warning can be disabled by setting the `HF_HUB_DISABLE_SYMLINKS_WARNING` environment variable. For more details, see https://huggingface.co/docs/huggingface_hub/how-to-cache#limitations.\n",
      "To support symlinks on Windows, you either need to activate Developer Mode or to run Python as an administrator. In order to activate developer mode, see this article: https://docs.microsoft.com/en-us/windows/apps/get-started/enable-your-device-for-development\n",
      "  warnings.warn(message)\n"
     ]
    }
   ],
   "source": [
    "embedding = HuggingFaceEmbeddings(model_name = \"all-MiniLM-L6-v2\")"
   ]
  },
  {
   "cell_type": "code",
   "execution_count": 4,
   "metadata": {},
   "outputs": [],
   "source": [
    "from langchain_groq import ChatGroq"
   ]
  },
  {
   "cell_type": "code",
   "execution_count": 5,
   "metadata": {},
   "outputs": [],
   "source": [
    "llm = ChatGroq(model_name = \"Gemma2-9b-It\")"
   ]
  },
  {
   "cell_type": "code",
   "execution_count": 6,
   "metadata": {},
   "outputs": [
    {
     "data": {
      "text/plain": [
       "AIMessage(content=\"ISRO stands for **Indian Space Research Organisation**. \\n\\nIt is the national space agency of India, headquartered in Bengaluru. \\n\\nHere are some key things to know about ISRO:\\n\\n* **Established:** 15 August 1969\\n* **Mission:** To harness space technology for national development, including communications, broadcasting, Earth observation, navigation, and space exploration.\\n* **Achievements:** ISRO has achieved many milestones, including launching its first satellite (Aryabhata) in 1975, successfully placing astronauts in space (2023), and developing its own launch vehicles (PSLV, GSLV).\\n* **Future Plans:** ISRO is working on ambitious projects, such as the Gaganyaan program (human spaceflight), Chandrayaan-3 (lunar mission), and Aditya-L1 (solar mission).\\n\\n\\nIs there anything specific you'd like to know about ISRO?\\n\", additional_kwargs={}, response_metadata={'token_usage': {'completion_tokens': 194, 'prompt_tokens': 12, 'total_tokens': 206, 'completion_time': 0.352727273, 'prompt_time': 7.577e-05, 'queue_time': 0.020595439, 'total_time': 0.352803043}, 'model_name': 'Gemma2-9b-It', 'system_fingerprint': 'fp_10c08bf97d', 'finish_reason': 'stop', 'logprobs': None}, id='run-09c3f856-f742-4082-b60f-b26b80c489db-0', usage_metadata={'input_tokens': 12, 'output_tokens': 194, 'total_tokens': 206})"
      ]
     },
     "execution_count": 6,
     "metadata": {},
     "output_type": "execute_result"
    }
   ],
   "source": [
    "llm.invoke('ISRO?')"
   ]
  },
  {
   "cell_type": "code",
   "execution_count": 7,
   "metadata": {},
   "outputs": [],
   "source": [
    "urls = [\n",
    "    \"https://python.langchain.com/v0.1/docs/modules/agents/\",\n",
    "    \"https://blog.langchain.dev/what-is-an-agent/\"\n",
    "]"
   ]
  },
  {
   "cell_type": "code",
   "execution_count": 8,
   "metadata": {},
   "outputs": [],
   "source": [
    "#load the data from web url using web base loader\n",
    "docs = [WebBaseLoader(url).load() for url in urls]"
   ]
  },
  {
   "cell_type": "code",
   "execution_count": 9,
   "metadata": {},
   "outputs": [
    {
     "data": {
      "text/plain": [
       "[[Document(metadata={'source': 'https://python.langchain.com/v0.1/docs/modules/agents/', 'title': 'Agents | 🦜️🔗 LangChain', 'description': 'The core idea of agents is to use a language model to choose a sequence of actions to take.', 'language': 'en'}, page_content='\\n\\n\\n\\n\\nAgents | 🦜️🔗 LangChain\\n\\n\\n\\n\\n\\n\\n\\nSkip to main contentThis is documentation for LangChain v0.1, which is no longer actively maintained. Check out the docs for the latest version here.ComponentsIntegrationsGuidesAPI ReferenceMorePeopleVersioningContributingTemplatesCookbooksTutorialsYouTubev0.1Latestv0.2v0.1🦜️🔗LangSmithLangSmith DocsLangServe GitHubTemplates GitHubTemplates HubLangChain HubJS/TS Docs💬SearchModel I/OPromptsChat modelsLLMsOutput parsersRetrievalDocument loadersText splittersEmbedding modelsVector storesRetrieversIndexingCompositionToolsAgentsQuickstartConceptsTypesAgentshow_toChainsMoreComponentsThis is documentation for LangChain v0.1, which is no longer actively maintained.For the current stable version, see this version (Latest).CompositionAgentsOn this pageAgentsThe core idea of agents is to use a language model to choose a sequence of actions to take.\\nIn chains, a sequence of actions is hardcoded (in code).\\nIn agents, a language model is used as a reasoning engine to determine which actions to take and in which order.Quickstart\\u200bFor a quick start to working with agents, please check out this getting started guide. This covers basics like initializing an agent, creating tools, and adding memory.Concepts\\u200bThere are several key concepts to understand when building agents: Agents, AgentExecutor, Tools, Toolkits.\\nFor an in depth explanation, please check out this conceptual guideAgent Types\\u200bThere are many different types of agents to use. For a overview of the different types and when to use them, please check out this section.Tools\\u200bAgents are only as good as the tools they have. For a comprehensive guide on tools, please see this section.How To Guides\\u200bAgents have a lot of related functionality! Check out comprehensive guides including:Building a custom agentStreaming (of both intermediate steps and tokens)Building an agent that returns structured outputLots functionality around using AgentExecutor, including: using it as an iterator, handle parsing errors, returning intermediate steps, capping the max number of iterations, and timeouts for agentsHelp us out by providing feedback on this documentation page:PreviousTools as OpenAI FunctionsNextQuickstartQuickstartConceptsAgent TypesToolsHow To GuidesCommunityDiscordTwitterGitHubPythonJS/TSMoreHomepageBlogYouTubeCopyright © 2024 LangChain, Inc.\\n\\n\\n\\n')],\n",
       " [Document(metadata={'source': 'https://blog.langchain.dev/what-is-an-agent/', 'title': 'What is an AI agent?', 'description': 'Introducing a new series of musings on AI agents, called \"In the Loop\".', 'language': 'en'}, page_content='\\n\\n\\nWhat is an AI agent?\\n\\n\\n\\n\\n\\n\\n\\n\\n\\n\\n\\n\\n\\n\\n\\n\\n\\n\\n\\n\\n\\n\\n\\n\\n\\n\\n\\n\\n\\n\\n\\n\\n\\n\\n\\n\\n\\n\\n\\n\\n\\n\\n\\n\\n\\n\\n\\n\\n\\n\\n\\n\\n\\n\\nSkip to content\\n\\n\\n\\n\\n\\n\\n\\n\\n\\n\\n\\n\\n\\n\\n\\n\\nCase Studies\\n\\n\\n\\n\\nIn the Loop\\n\\n\\n\\n\\nLangChain\\n\\n\\n\\n\\nDocs\\n\\n\\n\\n\\nChangelog\\n\\n\\n\\n\\n\\nSign in\\nSubscribe\\n\\n\\n\\n\\n\\n\\n\\n\\n\\n\\n\\n\\n\\n\\n\\n\\n\\n\\n\\nWhat is an AI agent?\\nIntroducing a new series of musings on AI agents, called \"In the Loop\".\\n\\nHarrison Chase\\n4 min read\\nJun 28, 2024\\n\\n\\n\\n\\n\\n“What is an agent?”I get asked this question almost daily. At LangChain, we build tools to help developers build LLM applications, especially those that act as a reasoning engines and interact with external sources of data and computation. This includes systems that are commonly referred to as “agents”.Everyone seems to have a slightly different definition of what an AI agent is. My definition is perhaps more technical than most: 💡An AI agent is a system that uses an LLM to decide the control flow of an application.Even here, I’ll admit that my definition is not perfect. People often think of agents as advanced, autonomous, and human-like —\\xa0but what about a simple system where an LLM routes between two different paths? This fits my technical definition, but not the common perception of what an agent should be capable of. It’s hard to define exactly what an agent is!That’s why I really liked Andrew Ng’s tweet last week. In it he suggests that “rather than arguing over which work to include or exclude as being a true AI agent, we can acknowledge that there are different degrees to which systems can be agentic.” Just like autonomous vehicles, for example, have levels of autonomy, we can also view AI agent capabilities as a spectrum. I really agree with this viewpoint and I think Andrew expressed it nicely. In the future, when I get asked about what an agent is, I will instead turn the conversation to discuss what it means to be “agentic”.What does it mean to be agentic?I gave a TED talk last year about LLM systems and used the slide below to talk about the different levels of autonomy present in LLM applications.A system is more “agentic” the more an LLM decides how the system can behave.Using an LLM to route inputs into a particular downstream workflow has some small amount of “agentic” behavior. This would fall into the Router category in the above diagram.If you do use multiple LLMs to do multiple routing steps? This would be somewhere between Router and State Machine.If one of those steps is then determining whether to continue or finish - effectively allowing the system to run in a loop until finished? That would fall into State Machine.If the system is building tools, remembering those, and then taking those in future steps? That is similar to what the Voyager paper implemented, and is incredibly agentic, falling into the higher Autonomous Agent category.These definitions of “agentic” are still pretty technical. I prefer the more technical definition of “agentic” because I think it’s useful when designing and describing LLM systems.Why is “agentic” a helpful concept?As with all concepts, it’s worth asking why we even need the concept of “agentic”. What does it help with?Having an idea of how agentic your system can guide your decision-making during the development process - including building it, running it, interacting with it, evaluating it, and even monitoring it.The more agentic your system is, the more an orchestration framework will help. If you are designing a complex agentic system, having a framework with the right abstractions for thinking about these concepts can enable faster development. This framework should have first-class support for branching logic and cycles.The more agentic your system is, the harder it is to run. It will be more and more complex, having some tasks that will take a long time to complete. This means you will want to run jobs as background runs. This also means you want durable execution to handle any errors that occur halfway through.The more agentic your system is, the more you will want to interact with it while it’s running. You’ll want the ability to observe what is going on inside, since the exact steps taken may not be known ahead of time. You’ll want the ability to modify the state or instructions of the agent at a particular point in time, to nudge it back on track if it’s deviating from the intended path.The more agentic your system is, the more you will want an evaluation framework built for these types of applications. You’ll want to run evals multiple times, since there is compounding amount of randomness. You’ll want the ability to test not only the final output but also the intermediate steps to test how efficient the agent is behaving.The more agentic your system is, the more you will want a new type of monitoring framework. You’ll want the ability to drill down into all the steps an agent takes. You’ll also want the ability to query for runs based on steps an agent takes.Understanding and leveraging the spectrum of agentic capabilities in your system can improve the efficiency and robustness of your development process.Agentic is newOne thing that I often think about is what is actually new in all this craze. Do we need new tooling and new infrastructure for the LLM applications people are building? Or will generic tools and infrastructure from pre-LLM days suffice?To me, the more agentic your application is, the more critical it is to have new tooling and infrastructure. That’s exactly what motivated us to build LangGraph, the agent orchestrator to help with building, running, and interacting with agents, and LangSmith, the testing and observability platform for LLM apps. As we move further on the agentic spectrum, the entire ecosystem of supportive tooling needs to be reimagined.\\n\\n\\nTags\\nHarrison ChaseIn the Loop\\n\\n\\nJoin our newsletter\\nUpdates from the LangChain team and community\\n\\n\\nEnter your email\\n\\nSubscribe\\n\\nProcessing your application...\\nSuccess! Please check your inbox and click the link to confirm your subscription.\\nSorry, something went wrong. Please try again.\\n\\n\\n\\n\\n\\nYou might also like\\n\\n\\n\\n\\n\\n\\n\\n\\n\\n\\nCommunication is all you need\\n\\n\\nIn the Loop\\n7 min read\\n\\n\\n\\n\\n\\n\\n\\n\\n\\n\\n\\n\\nLangChain\\'s Second Birthday\\n\\n\\nHarrison Chase\\n6 min read\\n\\n\\n\\n\\n\\n\\n\\n\\n\\n\\n\\n\\nMemory for agents\\n\\n\\nIn the Loop\\n5 min read\\n\\n\\n\\n\\n\\n\\n\\n\\n\\n\\n\\n\\nUX for Agents, Part 3: Spreadsheet, Generative, and Collaborative UI/UX\\n\\n\\nIn the Loop\\n4 min read\\n\\n\\n\\n\\n\\n\\n\\n\\n\\n\\n\\n\\nUX for Agents, Part 2: Ambient\\n\\n\\nIn the Loop\\n4 min read\\n\\n\\n\\n\\n\\n\\n\\n\\n\\n\\n\\n\\nUX for Agents, Part 1: Chat\\n\\n\\nIn the Loop\\n4 min read\\n\\n\\n\\n\\n\\n\\n\\n\\n\\n\\n\\n\\n\\n\\nSign up\\n\\n\\n\\n\\n\\n            © LangChain Blog 2025\\n        \\n\\n\\n\\n\\n\\n\\n')]]"
      ]
     },
     "execution_count": 9,
     "metadata": {},
     "output_type": "execute_result"
    }
   ],
   "source": [
    "docs"
   ]
  },
  {
   "cell_type": "code",
   "execution_count": 10,
   "metadata": {},
   "outputs": [
    {
     "data": {
      "text/plain": [
       "[Document(metadata={'source': 'https://python.langchain.com/v0.1/docs/modules/agents/', 'title': 'Agents | 🦜️🔗 LangChain', 'description': 'The core idea of agents is to use a language model to choose a sequence of actions to take.', 'language': 'en'}, page_content='\\n\\n\\n\\n\\nAgents | 🦜️🔗 LangChain\\n\\n\\n\\n\\n\\n\\n\\nSkip to main contentThis is documentation for LangChain v0.1, which is no longer actively maintained. Check out the docs for the latest version here.ComponentsIntegrationsGuidesAPI ReferenceMorePeopleVersioningContributingTemplatesCookbooksTutorialsYouTubev0.1Latestv0.2v0.1🦜️🔗LangSmithLangSmith DocsLangServe GitHubTemplates GitHubTemplates HubLangChain HubJS/TS Docs💬SearchModel I/OPromptsChat modelsLLMsOutput parsersRetrievalDocument loadersText splittersEmbedding modelsVector storesRetrieversIndexingCompositionToolsAgentsQuickstartConceptsTypesAgentshow_toChainsMoreComponentsThis is documentation for LangChain v0.1, which is no longer actively maintained.For the current stable version, see this version (Latest).CompositionAgentsOn this pageAgentsThe core idea of agents is to use a language model to choose a sequence of actions to take.\\nIn chains, a sequence of actions is hardcoded (in code).\\nIn agents, a language model is used as a reasoning engine to determine which actions to take and in which order.Quickstart\\u200bFor a quick start to working with agents, please check out this getting started guide. This covers basics like initializing an agent, creating tools, and adding memory.Concepts\\u200bThere are several key concepts to understand when building agents: Agents, AgentExecutor, Tools, Toolkits.\\nFor an in depth explanation, please check out this conceptual guideAgent Types\\u200bThere are many different types of agents to use. For a overview of the different types and when to use them, please check out this section.Tools\\u200bAgents are only as good as the tools they have. For a comprehensive guide on tools, please see this section.How To Guides\\u200bAgents have a lot of related functionality! Check out comprehensive guides including:Building a custom agentStreaming (of both intermediate steps and tokens)Building an agent that returns structured outputLots functionality around using AgentExecutor, including: using it as an iterator, handle parsing errors, returning intermediate steps, capping the max number of iterations, and timeouts for agentsHelp us out by providing feedback on this documentation page:PreviousTools as OpenAI FunctionsNextQuickstartQuickstartConceptsAgent TypesToolsHow To GuidesCommunityDiscordTwitterGitHubPythonJS/TSMoreHomepageBlogYouTubeCopyright © 2024 LangChain, Inc.\\n\\n\\n\\n')]"
      ]
     },
     "execution_count": 10,
     "metadata": {},
     "output_type": "execute_result"
    }
   ],
   "source": [
    "docs[0]"
   ]
  },
  {
   "cell_type": "code",
   "execution_count": 11,
   "metadata": {},
   "outputs": [
    {
     "data": {
      "text/plain": [
       "{'source': 'https://python.langchain.com/v0.1/docs/modules/agents/',\n",
       " 'title': 'Agents | 🦜️🔗 LangChain',\n",
       " 'description': 'The core idea of agents is to use a language model to choose a sequence of actions to take.',\n",
       " 'language': 'en'}"
      ]
     },
     "execution_count": 11,
     "metadata": {},
     "output_type": "execute_result"
    }
   ],
   "source": [
    "docs[0][0].metadata"
   ]
  },
  {
   "cell_type": "code",
   "execution_count": 12,
   "metadata": {},
   "outputs": [],
   "source": [
    "docs_list = [item for sublist in docs for item in sublist]"
   ]
  },
  {
   "cell_type": "code",
   "execution_count": 13,
   "metadata": {},
   "outputs": [
    {
     "data": {
      "text/plain": [
       "[Document(metadata={'source': 'https://python.langchain.com/v0.1/docs/modules/agents/', 'title': 'Agents | 🦜️🔗 LangChain', 'description': 'The core idea of agents is to use a language model to choose a sequence of actions to take.', 'language': 'en'}, page_content='\\n\\n\\n\\n\\nAgents | 🦜️🔗 LangChain\\n\\n\\n\\n\\n\\n\\n\\nSkip to main contentThis is documentation for LangChain v0.1, which is no longer actively maintained. Check out the docs for the latest version here.ComponentsIntegrationsGuidesAPI ReferenceMorePeopleVersioningContributingTemplatesCookbooksTutorialsYouTubev0.1Latestv0.2v0.1🦜️🔗LangSmithLangSmith DocsLangServe GitHubTemplates GitHubTemplates HubLangChain HubJS/TS Docs💬SearchModel I/OPromptsChat modelsLLMsOutput parsersRetrievalDocument loadersText splittersEmbedding modelsVector storesRetrieversIndexingCompositionToolsAgentsQuickstartConceptsTypesAgentshow_toChainsMoreComponentsThis is documentation for LangChain v0.1, which is no longer actively maintained.For the current stable version, see this version (Latest).CompositionAgentsOn this pageAgentsThe core idea of agents is to use a language model to choose a sequence of actions to take.\\nIn chains, a sequence of actions is hardcoded (in code).\\nIn agents, a language model is used as a reasoning engine to determine which actions to take and in which order.Quickstart\\u200bFor a quick start to working with agents, please check out this getting started guide. This covers basics like initializing an agent, creating tools, and adding memory.Concepts\\u200bThere are several key concepts to understand when building agents: Agents, AgentExecutor, Tools, Toolkits.\\nFor an in depth explanation, please check out this conceptual guideAgent Types\\u200bThere are many different types of agents to use. For a overview of the different types and when to use them, please check out this section.Tools\\u200bAgents are only as good as the tools they have. For a comprehensive guide on tools, please see this section.How To Guides\\u200bAgents have a lot of related functionality! Check out comprehensive guides including:Building a custom agentStreaming (of both intermediate steps and tokens)Building an agent that returns structured outputLots functionality around using AgentExecutor, including: using it as an iterator, handle parsing errors, returning intermediate steps, capping the max number of iterations, and timeouts for agentsHelp us out by providing feedback on this documentation page:PreviousTools as OpenAI FunctionsNextQuickstartQuickstartConceptsAgent TypesToolsHow To GuidesCommunityDiscordTwitterGitHubPythonJS/TSMoreHomepageBlogYouTubeCopyright © 2024 LangChain, Inc.\\n\\n\\n\\n'),\n",
       " Document(metadata={'source': 'https://blog.langchain.dev/what-is-an-agent/', 'title': 'What is an AI agent?', 'description': 'Introducing a new series of musings on AI agents, called \"In the Loop\".', 'language': 'en'}, page_content='\\n\\n\\nWhat is an AI agent?\\n\\n\\n\\n\\n\\n\\n\\n\\n\\n\\n\\n\\n\\n\\n\\n\\n\\n\\n\\n\\n\\n\\n\\n\\n\\n\\n\\n\\n\\n\\n\\n\\n\\n\\n\\n\\n\\n\\n\\n\\n\\n\\n\\n\\n\\n\\n\\n\\n\\n\\n\\n\\n\\n\\nSkip to content\\n\\n\\n\\n\\n\\n\\n\\n\\n\\n\\n\\n\\n\\n\\n\\n\\nCase Studies\\n\\n\\n\\n\\nIn the Loop\\n\\n\\n\\n\\nLangChain\\n\\n\\n\\n\\nDocs\\n\\n\\n\\n\\nChangelog\\n\\n\\n\\n\\n\\nSign in\\nSubscribe\\n\\n\\n\\n\\n\\n\\n\\n\\n\\n\\n\\n\\n\\n\\n\\n\\n\\n\\n\\nWhat is an AI agent?\\nIntroducing a new series of musings on AI agents, called \"In the Loop\".\\n\\nHarrison Chase\\n4 min read\\nJun 28, 2024\\n\\n\\n\\n\\n\\n“What is an agent?”I get asked this question almost daily. At LangChain, we build tools to help developers build LLM applications, especially those that act as a reasoning engines and interact with external sources of data and computation. This includes systems that are commonly referred to as “agents”.Everyone seems to have a slightly different definition of what an AI agent is. My definition is perhaps more technical than most: 💡An AI agent is a system that uses an LLM to decide the control flow of an application.Even here, I’ll admit that my definition is not perfect. People often think of agents as advanced, autonomous, and human-like —\\xa0but what about a simple system where an LLM routes between two different paths? This fits my technical definition, but not the common perception of what an agent should be capable of. It’s hard to define exactly what an agent is!That’s why I really liked Andrew Ng’s tweet last week. In it he suggests that “rather than arguing over which work to include or exclude as being a true AI agent, we can acknowledge that there are different degrees to which systems can be agentic.” Just like autonomous vehicles, for example, have levels of autonomy, we can also view AI agent capabilities as a spectrum. I really agree with this viewpoint and I think Andrew expressed it nicely. In the future, when I get asked about what an agent is, I will instead turn the conversation to discuss what it means to be “agentic”.What does it mean to be agentic?I gave a TED talk last year about LLM systems and used the slide below to talk about the different levels of autonomy present in LLM applications.A system is more “agentic” the more an LLM decides how the system can behave.Using an LLM to route inputs into a particular downstream workflow has some small amount of “agentic” behavior. This would fall into the Router category in the above diagram.If you do use multiple LLMs to do multiple routing steps? This would be somewhere between Router and State Machine.If one of those steps is then determining whether to continue or finish - effectively allowing the system to run in a loop until finished? That would fall into State Machine.If the system is building tools, remembering those, and then taking those in future steps? That is similar to what the Voyager paper implemented, and is incredibly agentic, falling into the higher Autonomous Agent category.These definitions of “agentic” are still pretty technical. I prefer the more technical definition of “agentic” because I think it’s useful when designing and describing LLM systems.Why is “agentic” a helpful concept?As with all concepts, it’s worth asking why we even need the concept of “agentic”. What does it help with?Having an idea of how agentic your system can guide your decision-making during the development process - including building it, running it, interacting with it, evaluating it, and even monitoring it.The more agentic your system is, the more an orchestration framework will help. If you are designing a complex agentic system, having a framework with the right abstractions for thinking about these concepts can enable faster development. This framework should have first-class support for branching logic and cycles.The more agentic your system is, the harder it is to run. It will be more and more complex, having some tasks that will take a long time to complete. This means you will want to run jobs as background runs. This also means you want durable execution to handle any errors that occur halfway through.The more agentic your system is, the more you will want to interact with it while it’s running. You’ll want the ability to observe what is going on inside, since the exact steps taken may not be known ahead of time. You’ll want the ability to modify the state or instructions of the agent at a particular point in time, to nudge it back on track if it’s deviating from the intended path.The more agentic your system is, the more you will want an evaluation framework built for these types of applications. You’ll want to run evals multiple times, since there is compounding amount of randomness. You’ll want the ability to test not only the final output but also the intermediate steps to test how efficient the agent is behaving.The more agentic your system is, the more you will want a new type of monitoring framework. You’ll want the ability to drill down into all the steps an agent takes. You’ll also want the ability to query for runs based on steps an agent takes.Understanding and leveraging the spectrum of agentic capabilities in your system can improve the efficiency and robustness of your development process.Agentic is newOne thing that I often think about is what is actually new in all this craze. Do we need new tooling and new infrastructure for the LLM applications people are building? Or will generic tools and infrastructure from pre-LLM days suffice?To me, the more agentic your application is, the more critical it is to have new tooling and infrastructure. That’s exactly what motivated us to build LangGraph, the agent orchestrator to help with building, running, and interacting with agents, and LangSmith, the testing and observability platform for LLM apps. As we move further on the agentic spectrum, the entire ecosystem of supportive tooling needs to be reimagined.\\n\\n\\nTags\\nHarrison ChaseIn the Loop\\n\\n\\nJoin our newsletter\\nUpdates from the LangChain team and community\\n\\n\\nEnter your email\\n\\nSubscribe\\n\\nProcessing your application...\\nSuccess! Please check your inbox and click the link to confirm your subscription.\\nSorry, something went wrong. Please try again.\\n\\n\\n\\n\\n\\nYou might also like\\n\\n\\n\\n\\n\\n\\n\\n\\n\\n\\nCommunication is all you need\\n\\n\\nIn the Loop\\n7 min read\\n\\n\\n\\n\\n\\n\\n\\n\\n\\n\\n\\n\\nLangChain\\'s Second Birthday\\n\\n\\nHarrison Chase\\n6 min read\\n\\n\\n\\n\\n\\n\\n\\n\\n\\n\\n\\n\\nMemory for agents\\n\\n\\nIn the Loop\\n5 min read\\n\\n\\n\\n\\n\\n\\n\\n\\n\\n\\n\\n\\nUX for Agents, Part 3: Spreadsheet, Generative, and Collaborative UI/UX\\n\\n\\nIn the Loop\\n4 min read\\n\\n\\n\\n\\n\\n\\n\\n\\n\\n\\n\\n\\nUX for Agents, Part 2: Ambient\\n\\n\\nIn the Loop\\n4 min read\\n\\n\\n\\n\\n\\n\\n\\n\\n\\n\\n\\n\\nUX for Agents, Part 1: Chat\\n\\n\\nIn the Loop\\n4 min read\\n\\n\\n\\n\\n\\n\\n\\n\\n\\n\\n\\n\\n\\n\\nSign up\\n\\n\\n\\n\\n\\n            © LangChain Blog 2025\\n        \\n\\n\\n\\n\\n\\n\\n')]"
      ]
     },
     "execution_count": 13,
     "metadata": {},
     "output_type": "execute_result"
    }
   ],
   "source": [
    "docs_list"
   ]
  },
  {
   "cell_type": "code",
   "execution_count": 14,
   "metadata": {},
   "outputs": [],
   "source": [
    "#Chunking\n",
    "\n",
    "text_splitter = RecursiveCharacterTextSplitter.from_tiktoken_encoder(chunk_size=100,chunk_overlap=5)"
   ]
  },
  {
   "cell_type": "code",
   "execution_count": 15,
   "metadata": {},
   "outputs": [],
   "source": [
    "doc_splits = text_splitter.split_documents(docs_list)"
   ]
  },
  {
   "cell_type": "code",
   "execution_count": 16,
   "metadata": {},
   "outputs": [
    {
     "data": {
      "text/plain": [
       "[Document(metadata={'source': 'https://python.langchain.com/v0.1/docs/modules/agents/', 'title': 'Agents | 🦜️🔗 LangChain', 'description': 'The core idea of agents is to use a language model to choose a sequence of actions to take.', 'language': 'en'}, page_content='Agents | 🦜️🔗 LangChain'),\n",
       " Document(metadata={'source': 'https://python.langchain.com/v0.1/docs/modules/agents/', 'title': 'Agents | 🦜️🔗 LangChain', 'description': 'The core idea of agents is to use a language model to choose a sequence of actions to take.', 'language': 'en'}, page_content='Skip to main contentThis is documentation for LangChain v0.1, which is no longer actively maintained. Check out the docs for the latest version here.ComponentsIntegrationsGuidesAPI ReferenceMorePeopleVersioningContributingTemplatesCookbooksTutorialsYouTubev0.1Latestv0.2v0.1🦜️🔗LangSmithLangSmith DocsLangServe GitHubTemplates GitHubTemplates HubLangChain'),\n",
       " Document(metadata={'source': 'https://python.langchain.com/v0.1/docs/modules/agents/', 'title': 'Agents | 🦜️🔗 LangChain', 'description': 'The core idea of agents is to use a language model to choose a sequence of actions to take.', 'language': 'en'}, page_content='HubLangChain HubJS/TS Docs💬SearchModel I/OPromptsChat modelsLLMsOutput parsersRetrievalDocument loadersText splittersEmbedding modelsVector storesRetrieversIndexingCompositionToolsAgentsQuickstartConceptsTypesAgentshow_toChainsMoreComponentsThis is documentation for LangChain v0.1, which is no longer actively maintained.For the current stable version, see this version'),\n",
       " Document(metadata={'source': 'https://python.langchain.com/v0.1/docs/modules/agents/', 'title': 'Agents | 🦜️🔗 LangChain', 'description': 'The core idea of agents is to use a language model to choose a sequence of actions to take.', 'language': 'en'}, page_content='version, see this version (Latest).CompositionAgentsOn this pageAgentsThe core idea of agents is to use a language model to choose a sequence of actions to take.'),\n",
       " Document(metadata={'source': 'https://python.langchain.com/v0.1/docs/modules/agents/', 'title': 'Agents | 🦜️🔗 LangChain', 'description': 'The core idea of agents is to use a language model to choose a sequence of actions to take.', 'language': 'en'}, page_content='In chains, a sequence of actions is hardcoded (in code).'),\n",
       " Document(metadata={'source': 'https://python.langchain.com/v0.1/docs/modules/agents/', 'title': 'Agents | 🦜️🔗 LangChain', 'description': 'The core idea of agents is to use a language model to choose a sequence of actions to take.', 'language': 'en'}, page_content='In agents, a language model is used as a reasoning engine to determine which actions to take and in which order.Quickstart\\u200bFor a quick start to working with agents, please check out this getting started guide. This covers basics like initializing an agent, creating tools, and adding memory.Concepts\\u200bThere are several key concepts to understand when building agents: Agents, AgentExecutor, Tools, Toolkits.'),\n",
       " Document(metadata={'source': 'https://python.langchain.com/v0.1/docs/modules/agents/', 'title': 'Agents | 🦜️🔗 LangChain', 'description': 'The core idea of agents is to use a language model to choose a sequence of actions to take.', 'language': 'en'}, page_content='For an in depth explanation, please check out this conceptual guideAgent Types\\u200bThere are many different types of agents to use. For a overview of the different types and when to use them, please check out this section.Tools\\u200bAgents are only as good as the tools they have. For a comprehensive guide on tools, please see this section.How To Guides\\u200bAgents have a lot of related functionality! Check out comprehensive guides including:Building a custom agentStreaming (of both intermediate'),\n",
       " Document(metadata={'source': 'https://python.langchain.com/v0.1/docs/modules/agents/', 'title': 'Agents | 🦜️🔗 LangChain', 'description': 'The core idea of agents is to use a language model to choose a sequence of actions to take.', 'language': 'en'}, page_content='(of both intermediate steps and tokens)Building an agent that returns structured outputLots functionality around using AgentExecutor, including: using it as an iterator, handle parsing errors, returning intermediate steps, capping the max number of iterations, and timeouts for agentsHelp us out by providing feedback on this documentation page:PreviousTools as OpenAI FunctionsNextQuickstartQuickstartConceptsAgent TypesToolsHow To GuidesCommunityDiscordTwitterGitHubPythonJS/TSMoreHomepageBlogYouTubeCopyright'),\n",
       " Document(metadata={'source': 'https://python.langchain.com/v0.1/docs/modules/agents/', 'title': 'Agents | 🦜️🔗 LangChain', 'description': 'The core idea of agents is to use a language model to choose a sequence of actions to take.', 'language': 'en'}, page_content='© 2024 LangChain, Inc.'),\n",
       " Document(metadata={'source': 'https://blog.langchain.dev/what-is-an-agent/', 'title': 'What is an AI agent?', 'description': 'Introducing a new series of musings on AI agents, called \"In the Loop\".', 'language': 'en'}, page_content='What is an AI agent?\\n\\n\\n\\n\\n\\n\\n\\n\\n\\n\\n\\n\\n\\n\\n\\n\\n\\n\\n\\n\\n\\n\\n\\n\\n\\n\\n\\n\\n\\n\\n\\n\\n\\n\\n\\n\\n\\n\\n\\n\\n\\n\\n\\n\\n\\n\\n\\n\\n\\n\\n\\n\\n\\n\\nSkip to content\\n\\n\\n\\n\\n\\n\\n\\n\\n\\n\\n\\n\\n\\n\\n\\n\\nCase Studies\\n\\n\\n\\n\\nIn the Loop\\n\\n\\n\\n\\nLangChain\\n\\n\\n\\n\\nDocs\\n\\n\\n\\n\\nChangelog\\n\\n\\n\\n\\n\\nSign in\\nSubscribe'),\n",
       " Document(metadata={'source': 'https://blog.langchain.dev/what-is-an-agent/', 'title': 'What is an AI agent?', 'description': 'Introducing a new series of musings on AI agents, called \"In the Loop\".', 'language': 'en'}, page_content='What is an AI agent?\\nIntroducing a new series of musings on AI agents, called \"In the Loop\".\\n\\nHarrison Chase\\n4 min read\\nJun 28, 2024'),\n",
       " Document(metadata={'source': 'https://blog.langchain.dev/what-is-an-agent/', 'title': 'What is an AI agent?', 'description': 'Introducing a new series of musings on AI agents, called \"In the Loop\".', 'language': 'en'}, page_content='“What is an agent?”I get asked this question almost daily. At LangChain, we build tools to help developers build LLM applications, especially those that act as a reasoning engines and interact with external sources of data and computation. This includes systems that are commonly referred to as “agents”.Everyone seems to have a slightly different definition of what an AI agent is. My definition is perhaps more technical than most: 💡An AI agent is a system that'),\n",
       " Document(metadata={'source': 'https://blog.langchain.dev/what-is-an-agent/', 'title': 'What is an AI agent?', 'description': 'Introducing a new series of musings on AI agents, called \"In the Loop\".', 'language': 'en'}, page_content='agent is a system that uses an LLM to decide the control flow of an application.Even here, I’ll admit that my definition is not perfect. People often think of agents as advanced, autonomous, and human-like —\\xa0but what about a simple system where an LLM routes between two different paths? This fits my technical definition, but not the common perception of what an agent should be capable of. It’s hard to define exactly what an agent'),\n",
       " Document(metadata={'source': 'https://blog.langchain.dev/what-is-an-agent/', 'title': 'What is an AI agent?', 'description': 'Introducing a new series of musings on AI agents, called \"In the Loop\".', 'language': 'en'}, page_content='define exactly what an agent is!That’s why I really liked Andrew Ng’s tweet last week. In it he suggests that “rather than arguing over which work to include or exclude as being a true AI agent, we can acknowledge that there are different degrees to which systems can be agentic.” Just like autonomous vehicles, for example, have levels of autonomy, we can also view AI agent capabilities as a spectrum. I really agree with this viewpoint and I think Andrew'),\n",
       " Document(metadata={'source': 'https://blog.langchain.dev/what-is-an-agent/', 'title': 'What is an AI agent?', 'description': 'Introducing a new series of musings on AI agents, called \"In the Loop\".', 'language': 'en'}, page_content='viewpoint and I think Andrew expressed it nicely. In the future, when I get asked about what an agent is, I will instead turn the conversation to discuss what it means to be “agentic”.What does it mean to be agentic?I gave a TED talk last year about LLM systems and used the slide below to talk about the different levels of autonomy present in LLM applications.A system is more “agentic” the more an LLM decides how the'),\n",
       " Document(metadata={'source': 'https://blog.langchain.dev/what-is-an-agent/', 'title': 'What is an AI agent?', 'description': 'Introducing a new series of musings on AI agents, called \"In the Loop\".', 'language': 'en'}, page_content='LLM decides how the system can behave.Using an LLM to route inputs into a particular downstream workflow has some small amount of “agentic” behavior. This would fall into the Router category in the above diagram.If you do use multiple LLMs to do multiple routing steps? This would be somewhere between Router and State Machine.If one of those steps is then determining whether to continue or finish - effectively allowing the system to run in a loop until finished? That would fall into State'),\n",
       " Document(metadata={'source': 'https://blog.langchain.dev/what-is-an-agent/', 'title': 'What is an AI agent?', 'description': 'Introducing a new series of musings on AI agents, called \"In the Loop\".', 'language': 'en'}, page_content='That would fall into State Machine.If the system is building tools, remembering those, and then taking those in future steps? That is similar to what the Voyager paper implemented, and is incredibly agentic, falling into the higher Autonomous Agent category.These definitions of “agentic” are still pretty technical. I prefer the more technical definition of “agentic” because I think it’s useful when designing and describing LLM systems.Why is'),\n",
       " Document(metadata={'source': 'https://blog.langchain.dev/what-is-an-agent/', 'title': 'What is an AI agent?', 'description': 'Introducing a new series of musings on AI agents, called \"In the Loop\".', 'language': 'en'}, page_content='systems.Why is “agentic” a helpful concept?As with all concepts, it’s worth asking why we even need the concept of “agentic”. What does it help with?Having an idea of how agentic your system can guide your decision-making during the development process - including building it, running it, interacting with it, evaluating it, and even monitoring it.The more agentic your system is, the more an orchestration framework will'),\n",
       " Document(metadata={'source': 'https://blog.langchain.dev/what-is-an-agent/', 'title': 'What is an AI agent?', 'description': 'Introducing a new series of musings on AI agents, called \"In the Loop\".', 'language': 'en'}, page_content='an orchestration framework will help. If you are designing a complex agentic system, having a framework with the right abstractions for thinking about these concepts can enable faster development. This framework should have first-class support for branching logic and cycles.The more agentic your system is, the harder it is to run. It will be more and more complex, having some tasks that will take a long time to complete. This means you will want to run jobs as background runs. This also means you'),\n",
       " Document(metadata={'source': 'https://blog.langchain.dev/what-is-an-agent/', 'title': 'What is an AI agent?', 'description': 'Introducing a new series of musings on AI agents, called \"In the Loop\".', 'language': 'en'}, page_content='This also means you want durable execution to handle any errors that occur halfway through.The more agentic your system is, the more you will want to interact with it while it’s running. You’ll want the ability to observe what is going on inside, since the exact steps taken may not be known ahead of time. You’ll want the ability to modify the state or instructions of the agent at a particular point in time, to nudge it back on track if'),\n",
       " Document(metadata={'source': 'https://blog.langchain.dev/what-is-an-agent/', 'title': 'What is an AI agent?', 'description': 'Introducing a new series of musings on AI agents, called \"In the Loop\".', 'language': 'en'}, page_content='it back on track if it’s deviating from the intended path.The more agentic your system is, the more you will want an evaluation framework built for these types of applications. You’ll want to run evals multiple times, since there is compounding amount of randomness. You’ll want the ability to test not only the final output but also the intermediate steps to test how efficient the agent is behaving.The more agentic your system is, the more you'),\n",
       " Document(metadata={'source': 'https://blog.langchain.dev/what-is-an-agent/', 'title': 'What is an AI agent?', 'description': 'Introducing a new series of musings on AI agents, called \"In the Loop\".', 'language': 'en'}, page_content='is, the more you will want a new type of monitoring framework. You’ll want the ability to drill down into all the steps an agent takes. You’ll also want the ability to query for runs based on steps an agent takes.Understanding and leveraging the spectrum of agentic capabilities in your system can improve the efficiency and robustness of your development process.Agentic is newOne thing that I often think about is what is actually new in all this craze. Do we need'),\n",
       " Document(metadata={'source': 'https://blog.langchain.dev/what-is-an-agent/', 'title': 'What is an AI agent?', 'description': 'Introducing a new series of musings on AI agents, called \"In the Loop\".', 'language': 'en'}, page_content='Do we need new tooling and new infrastructure for the LLM applications people are building? Or will generic tools and infrastructure from pre-LLM days suffice?To me, the more agentic your application is, the more critical it is to have new tooling and infrastructure. That’s exactly what motivated us to build LangGraph, the agent orchestrator to help with building, running, and interacting with agents, and LangSmith, the testing and observability platform for LLM apps.'),\n",
       " Document(metadata={'source': 'https://blog.langchain.dev/what-is-an-agent/', 'title': 'What is an AI agent?', 'description': 'Introducing a new series of musings on AI agents, called \"In the Loop\".', 'language': 'en'}, page_content='for LLM apps. As we move further on the agentic spectrum, the entire ecosystem of supportive tooling needs to be reimagined.'),\n",
       " Document(metadata={'source': 'https://blog.langchain.dev/what-is-an-agent/', 'title': 'What is an AI agent?', 'description': 'Introducing a new series of musings on AI agents, called \"In the Loop\".', 'language': 'en'}, page_content='Tags\\nHarrison ChaseIn the Loop\\n\\n\\nJoin our newsletter\\nUpdates from the LangChain team and community\\n\\n\\nEnter your email\\n\\nSubscribe\\n\\nProcessing your application...\\nSuccess! Please check your inbox and click the link to confirm your subscription.\\nSorry, something went wrong. Please try again.\\n\\n\\n\\n\\n\\nYou might also like\\n\\n\\n\\n\\n\\n\\n\\n\\n\\n\\nCommunication is all you need\\n\\n\\nIn the Loop\\n7 min read'),\n",
       " Document(metadata={'source': 'https://blog.langchain.dev/what-is-an-agent/', 'title': 'What is an AI agent?', 'description': 'Introducing a new series of musings on AI agents, called \"In the Loop\".', 'language': 'en'}, page_content=\"LangChain's Second Birthday\\n\\n\\nHarrison Chase\\n6 min read\\n\\n\\n\\n\\n\\n\\n\\n\\n\\n\\n\\n\\nMemory for agents\\n\\n\\nIn the Loop\\n5 min read\\n\\n\\n\\n\\n\\n\\n\\n\\n\\n\\n\\n\\nUX for Agents, Part 3: Spreadsheet, Generative, and Collaborative UI/UX\\n\\n\\nIn the Loop\\n4 min read\\n\\n\\n\\n\\n\\n\\n\\n\\n\\n\\n\\n\\nUX for Agents, Part 2: Ambient\"),\n",
       " Document(metadata={'source': 'https://blog.langchain.dev/what-is-an-agent/', 'title': 'What is an AI agent?', 'description': 'Introducing a new series of musings on AI agents, called \"In the Loop\".', 'language': 'en'}, page_content='In the Loop\\n4 min read\\n\\n\\n\\n\\n\\n\\n\\n\\n\\n\\n\\n\\nUX for Agents, Part 1: Chat\\n\\n\\nIn the Loop\\n4 min read\\n\\n\\n\\n\\n\\n\\n\\n\\n\\n\\n\\n\\n\\n\\nSign up\\n\\n\\n\\n\\n\\n            © LangChain Blog 2025')]"
      ]
     },
     "execution_count": 16,
     "metadata": {},
     "output_type": "execute_result"
    }
   ],
   "source": [
    "doc_splits"
   ]
  },
  {
   "cell_type": "code",
   "execution_count": 17,
   "metadata": {},
   "outputs": [
    {
     "data": {
      "text/plain": [
       "27"
      ]
     },
     "execution_count": 17,
     "metadata": {},
     "output_type": "execute_result"
    }
   ],
   "source": [
    "len(doc_splits)"
   ]
  },
  {
   "cell_type": "code",
   "execution_count": 69,
   "metadata": {},
   "outputs": [],
   "source": [
    "#Retrieve operation using Chromadb\n",
    "vectorstore = Chroma.from_documents(\n",
    "    documents = doc_splits,\n",
    "    collection_name = \"RAG_CHROMA\",\n",
    "    embedding = embedding\n",
    ")"
   ]
  },
  {
   "cell_type": "code",
   "execution_count": 70,
   "metadata": {},
   "outputs": [],
   "source": [
    "retriever = vectorstore.as_retriever()"
   ]
  },
  {
   "cell_type": "code",
   "execution_count": 71,
   "metadata": {},
   "outputs": [],
   "source": [
    "#create tool \n",
    "retriever_tool = create_retriever_tool(\n",
    "    retriever,\n",
    "    \"retriever tool\",\n",
    "    \"it returns me the description about the agents and agenticai\" #long description\n",
    ")"
   ]
  },
  {
   "cell_type": "code",
   "execution_count": 72,
   "metadata": {},
   "outputs": [],
   "source": [
    "#use the tool along with LLM\n",
    "tools = [retriever_tool]\n"
   ]
  },
  {
   "cell_type": "code",
   "execution_count": 115,
   "metadata": {},
   "outputs": [],
   "source": [
    "class AgentState(TypedDict):\n",
    "    messages : Annotated[Sequence[BaseMessage],add_messages]"
   ]
  },
  {
   "cell_type": "code",
   "execution_count": 116,
   "metadata": {},
   "outputs": [],
   "source": [
    "#validation\n",
    "class grade(BaseModel):\n",
    "    binary_score:str = Field(description=\"Relavance score 'yes' or 'no'\")"
   ]
  },
  {
   "cell_type": "code",
   "execution_count": 117,
   "metadata": {},
   "outputs": [],
   "source": [
    "def ai_assistant(state:AgentState):\n",
    "    print(\"**** CALL AGENT ****\")\n",
    "    messages = state['messages']\n",
    "    llm_with_tool = llm.bind_tools(tools)\n",
    "    response = llm_with_tool.invoke(messages)\n",
    "    return {\"messages\":[response]}\n",
    "    "
   ]
  },
  {
   "cell_type": "code",
   "execution_count": 118,
   "metadata": {},
   "outputs": [],
   "source": [
    "#def RETRIEVER(state):\n",
    "    #pass\n",
    "\n",
    "\"\"\"def generate(state:AgentState):\n",
    "    print(\"**** GENERATE ****\")\n",
    "    messages = state[\"messages\"]\n",
    "    question = messages[0].content\n",
    "    last_message = messages[-1]\n",
    "    docs = last_message.content\n",
    "\n",
    "    prompt = hub.pull(\"rlm/rag-prompt\")\n",
    "\n",
    "    rag_chain = prompt | llm | StrOutputParser()\n",
    "\n",
    "    response = rag_chain.invoke({\"context\":docs, \"questions\":question})\n",
    "    return {\"messages\":[response]}\"\"\""
   ]
  },
  {
   "cell_type": "code",
   "execution_count": 136,
   "metadata": {},
   "outputs": [],
   "source": [
    "def generate(state:AgentState):\n",
    "    print(\"---GENERATE---\")\n",
    "    messages = state[\"messages\"]\n",
    "    \n",
    "    print(f\"here is message from generate: {messages}\")\n",
    "    \n",
    "    question = messages[0].content\n",
    "    last_message = messages[-1]\n",
    "    docs = last_message.content\n",
    "    \n",
    "    prompt = hub.pull(\"rlm/rag-prompt\")\n",
    "    \n",
    "    rag_chain = prompt | llm\n",
    "\n",
    "    response = rag_chain.invoke({\"context\": docs, \"question\": question})\n",
    "    print(f\"this is my response:{response}\")\n",
    "    \n",
    "    return {\"messages\": [response]}"
   ]
  },
  {
   "cell_type": "code",
   "execution_count": 137,
   "metadata": {},
   "outputs": [],
   "source": [
    "def grade_documents(state:AgentState)->Literal[\"Output_Generator\", \"Query_Rewriter\"]:\n",
    "    llm_with_structure_op=llm.with_structured_output(grade)\n",
    "    \n",
    "    prompt=PromptTemplate(\n",
    "        template=\"\"\"You are a grader deciding if a document is relevant to a user’s question.\n",
    "                    Here is the document: {context}\n",
    "                    Here is the user’s question: {question}\n",
    "                    If the document talks about or contains information related to the user’s question, mark it as relevant. \n",
    "                    Give a 'yes' or 'no' answer to show if the document is relevant to the question.\"\"\",\n",
    "                    input_variables=[\"context\", \"question\"]\n",
    "                    )\n",
    "    chain = prompt | llm_with_structure_op\n",
    "    \n",
    "    messages = state[\"messages\"]\n",
    "    print(f\"message from the grader: {messages}\")\n",
    "    last_message = messages[-1]\n",
    "    question = messages[0].content\n",
    "    docs = last_message.content\n",
    "    scored_result = chain.invoke({\"question\": question, \"context\": docs})\n",
    "    score = scored_result.binary_score\n",
    "\n",
    "    if score == \"yes\":\n",
    "        print(\"---DECISION: DOCS RELEVANT---\")\n",
    "        return \"generator\" #this should be a node name\n",
    "    else:\n",
    "        print(\"---DECISION: DOCS NOT RELEVANT---\")\n",
    "        return \"rewriter\" #this should be a node name"
   ]
  },
  {
   "cell_type": "code",
   "execution_count": 138,
   "metadata": {},
   "outputs": [],
   "source": [
    "def rewrite(state:AgentState):\n",
    "    print(\"**** REWRITE ****\")\n",
    "    messages = state[\"messages\"]\n",
    "    question = messages[0].content\n",
    "\n",
    "    msg = [\n",
    "        HumanMessage(\n",
    "            content = f\"\"\"\\n\n",
    "            Look at the input and try to reason about the underlying semantic intent / meaning. \\n\n",
    "            Here is the initial question:\n",
    "            \\n ____________ \\n\n",
    "            {question}\n",
    "            \\n _____________ \\n\n",
    "            Formulate an improved question: \"\"\",\n",
    "\n",
    "        )\n",
    "    ]\n",
    "    #Grade\n",
    "    response = llm.invoke(msg)\n",
    "    return {\"messages\":[response]}"
   ]
  },
  {
   "cell_type": "code",
   "execution_count": 139,
   "metadata": {},
   "outputs": [
    {
     "data": {
      "text/plain": [
       "<langgraph.graph.state.StateGraph at 0x250c7c31300>"
      ]
     },
     "execution_count": 139,
     "metadata": {},
     "output_type": "execute_result"
    }
   ],
   "source": [
    "workflow=StateGraph(AgentState)\n",
    "workflow.add_node(\"My_AI_Assistant\",ai_assistant)\n",
    "#workflow.add_node(\"Vector_Retriever\", retriever) \n",
    "retrieve = ToolNode([retriever_tool]) #convert the retriever tool to node\n",
    "workflow.add_node(\"Vector_Retriever\",retrieve)\n",
    "workflow.add_node(\"Query_Rewriter\", rewrite) \n",
    "workflow.add_node(\"Output_Generator\", generate)"
   ]
  },
  {
   "cell_type": "code",
   "execution_count": 140,
   "metadata": {},
   "outputs": [],
   "source": [
    "#Create workflow\n",
    "#workflow = StateGraph(AgentState)\n",
    "#workflow.add_node(\"ai_assistant\",ai_assistant)\n",
    "#retrieve = ToolNode([retriever_tool]) #convert the retriever tool to node\n",
    "#workflow.add_node(\"retriver\",retrieve)\n",
    "#workflow.add_node(\"rewriter\",rewrite)\n",
    "#workflow.add_node(\"Generator\",Generate)"
   ]
  },
  {
   "cell_type": "code",
   "execution_count": 141,
   "metadata": {},
   "outputs": [
    {
     "data": {
      "text/plain": [
       "<langgraph.graph.state.StateGraph at 0x250c7c31300>"
      ]
     },
     "execution_count": 141,
     "metadata": {},
     "output_type": "execute_result"
    }
   ],
   "source": [
    "workflow.add_edge(START,\"My_AI_Assistant\")"
   ]
  },
  {
   "cell_type": "code",
   "execution_count": 142,
   "metadata": {},
   "outputs": [
    {
     "data": {
      "text/plain": [
       "<langgraph.graph.state.StateGraph at 0x250c7c31300>"
      ]
     },
     "execution_count": 142,
     "metadata": {},
     "output_type": "execute_result"
    }
   ],
   "source": [
    "workflow.add_conditional_edges(\"My_AI_Assistant\",\n",
    "                               tools_condition,\n",
    "                               {\"tools\": \"Vector_Retriever\",\n",
    "                                END: END,})\n",
    "#After Ai assistant i redirect the query to the retriever node or i will end the process"
   ]
  },
  {
   "cell_type": "code",
   "execution_count": 143,
   "metadata": {},
   "outputs": [
    {
     "data": {
      "text/plain": [
       "<langgraph.graph.state.StateGraph at 0x250c7c31300>"
      ]
     },
     "execution_count": 143,
     "metadata": {},
     "output_type": "execute_result"
    }
   ],
   "source": [
    "#After retriever we have two choices either i have to redirect the query or i have to generate the output\n",
    "#with the help of grade documents we can decide it.\n",
    "workflow.add_conditional_edges(\"Vector_Retriever\",\n",
    "                            grade_documents,\n",
    "                            {\"generator\": \"Output_Generator\",\n",
    "                            \"rewriter\": \"Query_Rewriter\"\n",
    "                            }\n",
    "                            )"
   ]
  },
  {
   "cell_type": "code",
   "execution_count": 144,
   "metadata": {},
   "outputs": [
    {
     "data": {
      "text/plain": [
       "<langgraph.graph.state.StateGraph at 0x250c7c31300>"
      ]
     },
     "execution_count": 144,
     "metadata": {},
     "output_type": "execute_result"
    }
   ],
   "source": [
    "#Once it is generated the output then finally i will end the process\n",
    "workflow.add_edge(\"Output_Generator\", END)"
   ]
  },
  {
   "cell_type": "code",
   "execution_count": 145,
   "metadata": {},
   "outputs": [
    {
     "data": {
      "text/plain": [
       "<langgraph.graph.state.StateGraph at 0x250c7c31300>"
      ]
     },
     "execution_count": 145,
     "metadata": {},
     "output_type": "execute_result"
    }
   ],
   "source": [
    "#If it is rewrite then again i have to go to the AI Assistant\n",
    "workflow.add_edge(\"Query_Rewriter\", \"My_AI_Assistant\")"
   ]
  },
  {
   "cell_type": "code",
   "execution_count": 146,
   "metadata": {},
   "outputs": [],
   "source": [
    "app=workflow.compile()"
   ]
  },
  {
   "cell_type": "code",
   "execution_count": 147,
   "metadata": {},
   "outputs": [
    {
     "data": {
      "image/png": "[encoded data removed]",
      "text/plain": [
       "<IPython.core.display.Image object>"
      ]
     },
     "metadata": {},
     "output_type": "display_data"
    }
   ],
   "source": [
    "from IPython.display import Image, display\n",
    "\n",
    "try:\n",
    "    display(Image(app.get_graph(xray=True).draw_mermaid_png()))\n",
    "except Exception:\n",
    "    # This requires some extra dependencies and is optional\n",
    "    pass"
   ]
  },
  {
   "cell_type": "code",
   "execution_count": 148,
   "metadata": {},
   "outputs": [],
   "source": [
    "#app.invoke(\"what is agenticAI?\")"
   ]
  },
  {
   "cell_type": "code",
   "execution_count": 149,
   "metadata": {},
   "outputs": [],
   "source": [
    "#app.invoke({\"messages\":[\"what is AgenticAI?\"]})"
   ]
  },
  {
   "cell_type": "code",
   "execution_count": 150,
   "metadata": {},
   "outputs": [
    {
     "name": "stdout",
     "output_type": "stream",
     "text": [
      "**** CALL AGENT ****\n",
      "message from the grader: [HumanMessage(content='what is AgenticAI?', additional_kwargs={}, response_metadata={}, id='e796ee83-5b98-4d23-8d97-6d8918dbbb3a'), AIMessage(content='', additional_kwargs={'tool_calls': [{'id': 'call_cpy7', 'function': {'arguments': '{\"query\":\"what is AgenticAI\"}', 'name': 'retriever tool'}, 'type': 'function'}]}, response_metadata={'token_usage': {'completion_tokens': 86, 'prompt_tokens': 963, 'total_tokens': 1049, 'completion_time': 0.156363636, 'prompt_time': 0.034360217, 'queue_time': 0.021526233, 'total_time': 0.190723853}, 'model_name': 'Gemma2-9b-It', 'system_fingerprint': 'fp_10c08bf97d', 'finish_reason': 'tool_calls', 'logprobs': None}, id='run-ac6b5712-c82a-49f4-a9dc-0d522f76e836-0', tool_calls=[{'name': 'retriever tool', 'args': {'query': 'what is AgenticAI'}, 'id': 'call_cpy7', 'type': 'tool_call'}], usage_metadata={'input_tokens': 963, 'output_tokens': 86, 'total_tokens': 1049}), ToolMessage(content='viewpoint and I think Andrew expressed it nicely. In the future, when I get asked about what an agent is, I will instead turn the conversation to discuss what it means to be “agentic”.What does it mean to be agentic?I gave a TED talk last year about LLM systems and used the slide below to talk about the different levels of autonomy present in LLM applications.A system is more “agentic” the more an LLM decides how the\\n\\nviewpoint and I think Andrew expressed it nicely. In the future, when I get asked about what an agent is, I will instead turn the conversation to discuss what it means to be “agentic”.What does it mean to be agentic?I gave a TED talk last year about LLM systems and used the slide below to talk about the different levels of autonomy present in LLM applications.A system is more “agentic” the more an LLM decides how the\\n\\ndefine exactly what an agent is!That’s why I really liked Andrew Ng’s tweet last week. In it he suggests that “rather than arguing over which work to include or exclude as being a true AI agent, we can acknowledge that there are different degrees to which systems can be agentic.” Just like autonomous vehicles, for example, have levels of autonomy, we can also view AI agent capabilities as a spectrum. I really agree with this viewpoint and I think Andrew\\n\\ndefine exactly what an agent is!That’s why I really liked Andrew Ng’s tweet last week. In it he suggests that “rather than arguing over which work to include or exclude as being a true AI agent, we can acknowledge that there are different degrees to which systems can be agentic.” Just like autonomous vehicles, for example, have levels of autonomy, we can also view AI agent capabilities as a spectrum. I really agree with this viewpoint and I think Andrew', name='retriever tool', id='14f63978-209b-499f-852d-0cd4a163051f', tool_call_id='call_cpy7')]\n",
      "---DECISION: DOCS RELEVANT---\n",
      "---GENERATE---\n",
      "here is message from generate: [HumanMessage(content='what is AgenticAI?', additional_kwargs={}, response_metadata={}, id='e796ee83-5b98-4d23-8d97-6d8918dbbb3a'), AIMessage(content='', additional_kwargs={'tool_calls': [{'id': 'call_cpy7', 'function': {'arguments': '{\"query\":\"what is AgenticAI\"}', 'name': 'retriever tool'}, 'type': 'function'}]}, response_metadata={'token_usage': {'completion_tokens': 86, 'prompt_tokens': 963, 'total_tokens': 1049, 'completion_time': 0.156363636, 'prompt_time': 0.034360217, 'queue_time': 0.021526233, 'total_time': 0.190723853}, 'model_name': 'Gemma2-9b-It', 'system_fingerprint': 'fp_10c08bf97d', 'finish_reason': 'tool_calls', 'logprobs': None}, id='run-ac6b5712-c82a-49f4-a9dc-0d522f76e836-0', tool_calls=[{'name': 'retriever tool', 'args': {'query': 'what is AgenticAI'}, 'id': 'call_cpy7', 'type': 'tool_call'}], usage_metadata={'input_tokens': 963, 'output_tokens': 86, 'total_tokens': 1049}), ToolMessage(content='viewpoint and I think Andrew expressed it nicely. In the future, when I get asked about what an agent is, I will instead turn the conversation to discuss what it means to be “agentic”.What does it mean to be agentic?I gave a TED talk last year about LLM systems and used the slide below to talk about the different levels of autonomy present in LLM applications.A system is more “agentic” the more an LLM decides how the\\n\\nviewpoint and I think Andrew expressed it nicely. In the future, when I get asked about what an agent is, I will instead turn the conversation to discuss what it means to be “agentic”.What does it mean to be agentic?I gave a TED talk last year about LLM systems and used the slide below to talk about the different levels of autonomy present in LLM applications.A system is more “agentic” the more an LLM decides how the\\n\\ndefine exactly what an agent is!That’s why I really liked Andrew Ng’s tweet last week. In it he suggests that “rather than arguing over which work to include or exclude as being a true AI agent, we can acknowledge that there are different degrees to which systems can be agentic.” Just like autonomous vehicles, for example, have levels of autonomy, we can also view AI agent capabilities as a spectrum. I really agree with this viewpoint and I think Andrew\\n\\ndefine exactly what an agent is!That’s why I really liked Andrew Ng’s tweet last week. In it he suggests that “rather than arguing over which work to include or exclude as being a true AI agent, we can acknowledge that there are different degrees to which systems can be agentic.” Just like autonomous vehicles, for example, have levels of autonomy, we can also view AI agent capabilities as a spectrum. I really agree with this viewpoint and I think Andrew', name='retriever tool', id='14f63978-209b-499f-852d-0cd4a163051f', tool_call_id='call_cpy7')]\n"
     ]
    },
    {
     "name": "stderr",
     "output_type": "stream",
     "text": [
      "c:\\Users\\Toshiba\\anaconda3\\envs\\langgraph\\lib\\site-packages\\langsmith\\client.py:256: LangSmithMissingAPIKeyWarning: API key must be provided when using hosted LangSmith API\n",
      "  warnings.warn(\n"
     ]
    },
    {
     "name": "stdout",
     "output_type": "stream",
     "text": [
      "this is my response:content='AgenticAI refers to AI systems with varying degrees of autonomy. \\n\\nThe more an AI decides how to act and achieve goals, the more \"agentic\" it is. \\n\\nThis concept is similar to levels of autonomy in self-driving cars. \\n' additional_kwargs={} response_metadata={'token_usage': {'completion_tokens': 56, 'prompt_tokens': 461, 'total_tokens': 517, 'completion_time': 0.101818182, 'prompt_time': 0.014722236, 'queue_time': 0.02248551, 'total_time': 0.116540418}, 'model_name': 'Gemma2-9b-It', 'system_fingerprint': 'fp_10c08bf97d', 'finish_reason': 'stop', 'logprobs': None} id='run-b4d08a60-f1c1-48eb-8eae-f090040ccc1c-0' usage_metadata={'input_tokens': 461, 'output_tokens': 56, 'total_tokens': 517}\n"
     ]
    },
    {
     "data": {
      "text/plain": [
       "{'messages': [HumanMessage(content='what is AgenticAI?', additional_kwargs={}, response_metadata={}, id='e796ee83-5b98-4d23-8d97-6d8918dbbb3a'),\n",
       "  AIMessage(content='', additional_kwargs={'tool_calls': [{'id': 'call_cpy7', 'function': {'arguments': '{\"query\":\"what is AgenticAI\"}', 'name': 'retriever tool'}, 'type': 'function'}]}, response_metadata={'token_usage': {'completion_tokens': 86, 'prompt_tokens': 963, 'total_tokens': 1049, 'completion_time': 0.156363636, 'prompt_time': 0.034360217, 'queue_time': 0.021526233, 'total_time': 0.190723853}, 'model_name': 'Gemma2-9b-It', 'system_fingerprint': 'fp_10c08bf97d', 'finish_reason': 'tool_calls', 'logprobs': None}, id='run-ac6b5712-c82a-49f4-a9dc-0d522f76e836-0', tool_calls=[{'name': 'retriever tool', 'args': {'query': 'what is AgenticAI'}, 'id': 'call_cpy7', 'type': 'tool_call'}], usage_metadata={'input_tokens': 963, 'output_tokens': 86, 'total_tokens': 1049}),\n",
       "  ToolMessage(content='viewpoint and I think Andrew expressed it nicely. In the future, when I get asked about what an agent is, I will instead turn the conversation to discuss what it means to be “agentic”.What does it mean to be agentic?I gave a TED talk last year about LLM systems and used the slide below to talk about the different levels of autonomy present in LLM applications.A system is more “agentic” the more an LLM decides how the\\n\\nviewpoint and I think Andrew expressed it nicely. In the future, when I get asked about what an agent is, I will instead turn the conversation to discuss what it means to be “agentic”.What does it mean to be agentic?I gave a TED talk last year about LLM systems and used the slide below to talk about the different levels of autonomy present in LLM applications.A system is more “agentic” the more an LLM decides how the\\n\\ndefine exactly what an agent is!That’s why I really liked Andrew Ng’s tweet last week. In it he suggests that “rather than arguing over which work to include or exclude as being a true AI agent, we can acknowledge that there are different degrees to which systems can be agentic.” Just like autonomous vehicles, for example, have levels of autonomy, we can also view AI agent capabilities as a spectrum. I really agree with this viewpoint and I think Andrew\\n\\ndefine exactly what an agent is!That’s why I really liked Andrew Ng’s tweet last week. In it he suggests that “rather than arguing over which work to include or exclude as being a true AI agent, we can acknowledge that there are different degrees to which systems can be agentic.” Just like autonomous vehicles, for example, have levels of autonomy, we can also view AI agent capabilities as a spectrum. I really agree with this viewpoint and I think Andrew', name='retriever tool', id='14f63978-209b-499f-852d-0cd4a163051f', tool_call_id='call_cpy7'),\n",
       "  AIMessage(content='AgenticAI refers to AI systems with varying degrees of autonomy. \\n\\nThe more an AI decides how to act and achieve goals, the more \"agentic\" it is. \\n\\nThis concept is similar to levels of autonomy in self-driving cars. \\n', additional_kwargs={}, response_metadata={'token_usage': {'completion_tokens': 56, 'prompt_tokens': 461, 'total_tokens': 517, 'completion_time': 0.101818182, 'prompt_time': 0.014722236, 'queue_time': 0.02248551, 'total_time': 0.116540418}, 'model_name': 'Gemma2-9b-It', 'system_fingerprint': 'fp_10c08bf97d', 'finish_reason': 'stop', 'logprobs': None}, id='run-b4d08a60-f1c1-48eb-8eae-f090040ccc1c-0', usage_metadata={'input_tokens': 461, 'output_tokens': 56, 'total_tokens': 517})]}"
      ]
     },
     "execution_count": 150,
     "metadata": {},
     "output_type": "execute_result"
    }
   ],
   "source": [
    "app.invoke({\"messages\":[\"what is AgenticAI?\"]})"
   ]
  },
  {
   "cell_type": "code",
   "execution_count": 151,
   "metadata": {},
   "outputs": [
    {
     "name": "stdout",
     "output_type": "stream",
     "text": [
      "**** CALL AGENT ****\n",
      "message from the grader: [HumanMessage(content='what is an agent?', additional_kwargs={}, response_metadata={}, id='08abbe70-de08-4797-b5f0-f388ee52afbc'), AIMessage(content='', additional_kwargs={'tool_calls': [{'id': 'call_k04a', 'function': {'arguments': '{\"query\":\"What is an agent?\"}', 'name': 'retriever tool'}, 'type': 'function'}]}, response_metadata={'token_usage': {'completion_tokens': 85, 'prompt_tokens': 962, 'total_tokens': 1047, 'completion_time': 0.154545455, 'prompt_time': 0.039753083, 'queue_time': 0.06941748, 'total_time': 0.194298538}, 'model_name': 'Gemma2-9b-It', 'system_fingerprint': 'fp_10c08bf97d', 'finish_reason': 'tool_calls', 'logprobs': None}, id='run-6c653ed0-97ce-4628-b8f5-5b051a179e09-0', tool_calls=[{'name': 'retriever tool', 'args': {'query': 'What is an agent?'}, 'id': 'call_k04a', 'type': 'tool_call'}], usage_metadata={'input_tokens': 962, 'output_tokens': 85, 'total_tokens': 1047}), ToolMessage(content='“What is an agent?”I get asked this question almost daily. At LangChain, we build tools to help developers build LLM applications, especially those that act as a reasoning engines and interact with external sources of data and computation. This includes systems that are commonly referred to as “agents”.Everyone seems to have a slightly different definition of what an AI agent is. My definition is perhaps more technical than most: 💡An AI agent is a system that\\n\\n“What is an agent?”I get asked this question almost daily. At LangChain, we build tools to help developers build LLM applications, especially those that act as a reasoning engines and interact with external sources of data and computation. This includes systems that are commonly referred to as “agents”.Everyone seems to have a slightly different definition of what an AI agent is. My definition is perhaps more technical than most: 💡An AI agent is a system that\\n\\nviewpoint and I think Andrew expressed it nicely. In the future, when I get asked about what an agent is, I will instead turn the conversation to discuss what it means to be “agentic”.What does it mean to be agentic?I gave a TED talk last year about LLM systems and used the slide below to talk about the different levels of autonomy present in LLM applications.A system is more “agentic” the more an LLM decides how the\\n\\nviewpoint and I think Andrew expressed it nicely. In the future, when I get asked about what an agent is, I will instead turn the conversation to discuss what it means to be “agentic”.What does it mean to be agentic?I gave a TED talk last year about LLM systems and used the slide below to talk about the different levels of autonomy present in LLM applications.A system is more “agentic” the more an LLM decides how the', name='retriever tool', id='f4ab641b-a009-4ce0-b48f-265a3abb0875', tool_call_id='call_k04a')]\n",
      "---DECISION: DOCS RELEVANT---\n",
      "---GENERATE---\n",
      "here is message from generate: [HumanMessage(content='what is an agent?', additional_kwargs={}, response_metadata={}, id='08abbe70-de08-4797-b5f0-f388ee52afbc'), AIMessage(content='', additional_kwargs={'tool_calls': [{'id': 'call_k04a', 'function': {'arguments': '{\"query\":\"What is an agent?\"}', 'name': 'retriever tool'}, 'type': 'function'}]}, response_metadata={'token_usage': {'completion_tokens': 85, 'prompt_tokens': 962, 'total_tokens': 1047, 'completion_time': 0.154545455, 'prompt_time': 0.039753083, 'queue_time': 0.06941748, 'total_time': 0.194298538}, 'model_name': 'Gemma2-9b-It', 'system_fingerprint': 'fp_10c08bf97d', 'finish_reason': 'tool_calls', 'logprobs': None}, id='run-6c653ed0-97ce-4628-b8f5-5b051a179e09-0', tool_calls=[{'name': 'retriever tool', 'args': {'query': 'What is an agent?'}, 'id': 'call_k04a', 'type': 'tool_call'}], usage_metadata={'input_tokens': 962, 'output_tokens': 85, 'total_tokens': 1047}), ToolMessage(content='“What is an agent?”I get asked this question almost daily. At LangChain, we build tools to help developers build LLM applications, especially those that act as a reasoning engines and interact with external sources of data and computation. This includes systems that are commonly referred to as “agents”.Everyone seems to have a slightly different definition of what an AI agent is. My definition is perhaps more technical than most: 💡An AI agent is a system that\\n\\n“What is an agent?”I get asked this question almost daily. At LangChain, we build tools to help developers build LLM applications, especially those that act as a reasoning engines and interact with external sources of data and computation. This includes systems that are commonly referred to as “agents”.Everyone seems to have a slightly different definition of what an AI agent is. My definition is perhaps more technical than most: 💡An AI agent is a system that\\n\\nviewpoint and I think Andrew expressed it nicely. In the future, when I get asked about what an agent is, I will instead turn the conversation to discuss what it means to be “agentic”.What does it mean to be agentic?I gave a TED talk last year about LLM systems and used the slide below to talk about the different levels of autonomy present in LLM applications.A system is more “agentic” the more an LLM decides how the\\n\\nviewpoint and I think Andrew expressed it nicely. In the future, when I get asked about what an agent is, I will instead turn the conversation to discuss what it means to be “agentic”.What does it mean to be agentic?I gave a TED talk last year about LLM systems and used the slide below to talk about the different levels of autonomy present in LLM applications.A system is more “agentic” the more an LLM decides how the', name='retriever tool', id='f4ab641b-a009-4ce0-b48f-265a3abb0875', tool_call_id='call_k04a')]\n"
     ]
    },
    {
     "name": "stderr",
     "output_type": "stream",
     "text": [
      "c:\\Users\\Toshiba\\anaconda3\\envs\\langgraph\\lib\\site-packages\\langsmith\\client.py:256: LangSmithMissingAPIKeyWarning: API key must be provided when using hosted LangSmith API\n",
      "  warnings.warn(\n"
     ]
    },
    {
     "name": "stdout",
     "output_type": "stream",
     "text": [
      "this is my response:content='An AI agent is a system that  acts as a reasoning engine and interacts with external sources of data and computation.  It\\'s more technical than most definitions, but captures the essence of an agent\\'s capabilities.  Ultimately, being \"agentic\" means the LLM has a high level of autonomy in deciding how to act.  \\n' additional_kwargs={} response_metadata={'token_usage': {'completion_tokens': 72, 'prompt_tokens': 455, 'total_tokens': 527, 'completion_time': 0.130909091, 'prompt_time': 0.01796977, 'queue_time': 0.021532850000000003, 'total_time': 0.148878861}, 'model_name': 'Gemma2-9b-It', 'system_fingerprint': 'fp_10c08bf97d', 'finish_reason': 'stop', 'logprobs': None} id='run-ab998883-197a-458b-b4e4-5499f3dd5f86-0' usage_metadata={'input_tokens': 455, 'output_tokens': 72, 'total_tokens': 527}\n"
     ]
    },
    {
     "data": {
      "text/plain": [
       "{'messages': [HumanMessage(content='what is an agent?', additional_kwargs={}, response_metadata={}, id='08abbe70-de08-4797-b5f0-f388ee52afbc'),\n",
       "  AIMessage(content='', additional_kwargs={'tool_calls': [{'id': 'call_k04a', 'function': {'arguments': '{\"query\":\"What is an agent?\"}', 'name': 'retriever tool'}, 'type': 'function'}]}, response_metadata={'token_usage': {'completion_tokens': 85, 'prompt_tokens': 962, 'total_tokens': 1047, 'completion_time': 0.154545455, 'prompt_time': 0.039753083, 'queue_time': 0.06941748, 'total_time': 0.194298538}, 'model_name': 'Gemma2-9b-It', 'system_fingerprint': 'fp_10c08bf97d', 'finish_reason': 'tool_calls', 'logprobs': None}, id='run-6c653ed0-97ce-4628-b8f5-5b051a179e09-0', tool_calls=[{'name': 'retriever tool', 'args': {'query': 'What is an agent?'}, 'id': 'call_k04a', 'type': 'tool_call'}], usage_metadata={'input_tokens': 962, 'output_tokens': 85, 'total_tokens': 1047}),\n",
       "  ToolMessage(content='“What is an agent?”I get asked this question almost daily. At LangChain, we build tools to help developers build LLM applications, especially those that act as a reasoning engines and interact with external sources of data and computation. This includes systems that are commonly referred to as “agents”.Everyone seems to have a slightly different definition of what an AI agent is. My definition is perhaps more technical than most: 💡An AI agent is a system that\\n\\n“What is an agent?”I get asked this question almost daily. At LangChain, we build tools to help developers build LLM applications, especially those that act as a reasoning engines and interact with external sources of data and computation. This includes systems that are commonly referred to as “agents”.Everyone seems to have a slightly different definition of what an AI agent is. My definition is perhaps more technical than most: 💡An AI agent is a system that\\n\\nviewpoint and I think Andrew expressed it nicely. In the future, when I get asked about what an agent is, I will instead turn the conversation to discuss what it means to be “agentic”.What does it mean to be agentic?I gave a TED talk last year about LLM systems and used the slide below to talk about the different levels of autonomy present in LLM applications.A system is more “agentic” the more an LLM decides how the\\n\\nviewpoint and I think Andrew expressed it nicely. In the future, when I get asked about what an agent is, I will instead turn the conversation to discuss what it means to be “agentic”.What does it mean to be agentic?I gave a TED talk last year about LLM systems and used the slide below to talk about the different levels of autonomy present in LLM applications.A system is more “agentic” the more an LLM decides how the', name='retriever tool', id='f4ab641b-a009-4ce0-b48f-265a3abb0875', tool_call_id='call_k04a'),\n",
       "  AIMessage(content='An AI agent is a system that  acts as a reasoning engine and interacts with external sources of data and computation.  It\\'s more technical than most definitions, but captures the essence of an agent\\'s capabilities.  Ultimately, being \"agentic\" means the LLM has a high level of autonomy in deciding how to act.  \\n', additional_kwargs={}, response_metadata={'token_usage': {'completion_tokens': 72, 'prompt_tokens': 455, 'total_tokens': 527, 'completion_time': 0.130909091, 'prompt_time': 0.01796977, 'queue_time': 0.021532850000000003, 'total_time': 0.148878861}, 'model_name': 'Gemma2-9b-It', 'system_fingerprint': 'fp_10c08bf97d', 'finish_reason': 'stop', 'logprobs': None}, id='run-ab998883-197a-458b-b4e4-5499f3dd5f86-0', usage_metadata={'input_tokens': 455, 'output_tokens': 72, 'total_tokens': 527})]}"
      ]
     },
     "execution_count": 151,
     "metadata": {},
     "output_type": "execute_result"
    }
   ],
   "source": [
    "app.invoke({\"messages\":[\"what is an agent?\"]})"
   ]
  },
  {
   "cell_type": "code",
   "execution_count": 152,
   "metadata": {},
   "outputs": [
    {
     "name": "stdout",
     "output_type": "stream",
     "text": [
      "**** CALL AGENT ****\n",
      "message from the grader: [HumanMessage(content='what is ISRO?', additional_kwargs={}, response_metadata={}, id='eaedb8ed-2ce3-41e3-a410-e2cd86f51fd8'), AIMessage(content='', additional_kwargs={'tool_calls': [{'id': 'call_ag7s', 'function': {'arguments': '{\"query\":\"What is ISRO?\"}', 'name': 'retriever tool'}, 'type': 'function'}]}, response_metadata={'token_usage': {'completion_tokens': 83, 'prompt_tokens': 962, 'total_tokens': 1045, 'completion_time': 0.150909091, 'prompt_time': 0.030844282, 'queue_time': 0.021862305, 'total_time': 0.181753373}, 'model_name': 'Gemma2-9b-It', 'system_fingerprint': 'fp_10c08bf97d', 'finish_reason': 'tool_calls', 'logprobs': None}, id='run-d4839549-2474-41a1-9bca-9fb29f55d3a9-0', tool_calls=[{'name': 'retriever tool', 'args': {'query': 'What is ISRO?'}, 'id': 'call_ag7s', 'type': 'tool_call'}], usage_metadata={'input_tokens': 962, 'output_tokens': 83, 'total_tokens': 1045}), ToolMessage(content='systems.Why is “agentic” a helpful concept?As with all concepts, it’s worth asking why we even need the concept of “agentic”. What does it help with?Having an idea of how agentic your system can guide your decision-making during the development process - including building it, running it, interacting with it, evaluating it, and even monitoring it.The more agentic your system is, the more an orchestration framework will\\n\\nsystems.Why is “agentic” a helpful concept?As with all concepts, it’s worth asking why we even need the concept of “agentic”. What does it help with?Having an idea of how agentic your system can guide your decision-making during the development process - including building it, running it, interacting with it, evaluating it, and even monitoring it.The more agentic your system is, the more an orchestration framework will\\n\\nis, the more you will want a new type of monitoring framework. You’ll want the ability to drill down into all the steps an agent takes. You’ll also want the ability to query for runs based on steps an agent takes.Understanding and leveraging the spectrum of agentic capabilities in your system can improve the efficiency and robustness of your development process.Agentic is newOne thing that I often think about is what is actually new in all this craze. Do we need\\n\\nis, the more you will want a new type of monitoring framework. You’ll want the ability to drill down into all the steps an agent takes. You’ll also want the ability to query for runs based on steps an agent takes.Understanding and leveraging the spectrum of agentic capabilities in your system can improve the efficiency and robustness of your development process.Agentic is newOne thing that I often think about is what is actually new in all this craze. Do we need', name='retriever tool', id='39be1f40-a499-408e-8570-5945394e2946', tool_call_id='call_ag7s')]\n",
      "---DECISION: DOCS NOT RELEVANT---\n",
      "**** REWRITE ****\n",
      "**** CALL AGENT ****\n"
     ]
    },
    {
     "data": {
      "text/plain": [
       "{'messages': [HumanMessage(content='what is ISRO?', additional_kwargs={}, response_metadata={}, id='eaedb8ed-2ce3-41e3-a410-e2cd86f51fd8'),\n",
       "  AIMessage(content='', additional_kwargs={'tool_calls': [{'id': 'call_ag7s', 'function': {'arguments': '{\"query\":\"What is ISRO?\"}', 'name': 'retriever tool'}, 'type': 'function'}]}, response_metadata={'token_usage': {'completion_tokens': 83, 'prompt_tokens': 962, 'total_tokens': 1045, 'completion_time': 0.150909091, 'prompt_time': 0.030844282, 'queue_time': 0.021862305, 'total_time': 0.181753373}, 'model_name': 'Gemma2-9b-It', 'system_fingerprint': 'fp_10c08bf97d', 'finish_reason': 'tool_calls', 'logprobs': None}, id='run-d4839549-2474-41a1-9bca-9fb29f55d3a9-0', tool_calls=[{'name': 'retriever tool', 'args': {'query': 'What is ISRO?'}, 'id': 'call_ag7s', 'type': 'tool_call'}], usage_metadata={'input_tokens': 962, 'output_tokens': 83, 'total_tokens': 1045}),\n",
       "  ToolMessage(content='systems.Why is “agentic” a helpful concept?As with all concepts, it’s worth asking why we even need the concept of “agentic”. What does it help with?Having an idea of how agentic your system can guide your decision-making during the development process - including building it, running it, interacting with it, evaluating it, and even monitoring it.The more agentic your system is, the more an orchestration framework will\\n\\nsystems.Why is “agentic” a helpful concept?As with all concepts, it’s worth asking why we even need the concept of “agentic”. What does it help with?Having an idea of how agentic your system can guide your decision-making during the development process - including building it, running it, interacting with it, evaluating it, and even monitoring it.The more agentic your system is, the more an orchestration framework will\\n\\nis, the more you will want a new type of monitoring framework. You’ll want the ability to drill down into all the steps an agent takes. You’ll also want the ability to query for runs based on steps an agent takes.Understanding and leveraging the spectrum of agentic capabilities in your system can improve the efficiency and robustness of your development process.Agentic is newOne thing that I often think about is what is actually new in all this craze. Do we need\\n\\nis, the more you will want a new type of monitoring framework. You’ll want the ability to drill down into all the steps an agent takes. You’ll also want the ability to query for runs based on steps an agent takes.Understanding and leveraging the spectrum of agentic capabilities in your system can improve the efficiency and robustness of your development process.Agentic is newOne thing that I often think about is what is actually new in all this craze. Do we need', name='retriever tool', id='39be1f40-a499-408e-8570-5945394e2946', tool_call_id='call_ag7s'),\n",
       "  AIMessage(content='The input question \"what is ISRO?\" demonstrates a request for information about ISRO. \\n\\nHere are a few improved questions that clarify the intent:\\n\\n* **Could you tell me about ISRO?** (More general, inviting a comprehensive answer)\\n* **What does ISRO stand for, and what does it do?** (Seeks both the acronym definition and the organization\\'s function)\\n* **What are the main goals and achievements of ISRO?** (Focuses on the organization\\'s purpose and successes)\\n* **How does ISRO contribute to India\\'s space program?** (Highlights the organization\\'s role in a specific context)\\n\\n\\nThe best improved question depends on the desired level of detail and focus. \\n', additional_kwargs={}, response_metadata={'token_usage': {'completion_tokens': 157, 'prompt_tokens': 62, 'total_tokens': 219, 'completion_time': 0.285454545, 'prompt_time': 0.001984981, 'queue_time': 0.020632267, 'total_time': 0.287439526}, 'model_name': 'Gemma2-9b-It', 'system_fingerprint': 'fp_10c08bf97d', 'finish_reason': 'stop', 'logprobs': None}, id='run-35e2e09f-9f6f-4202-94ba-9781382d7724-0', usage_metadata={'input_tokens': 62, 'output_tokens': 157, 'total_tokens': 219}),\n",
       "  AIMessage(content='', additional_kwargs={}, response_metadata={'token_usage': {'completion_tokens': 2, 'prompt_tokens': 1572, 'total_tokens': 1574, 'completion_time': 0.003636364, 'prompt_time': 0.050386078, 'queue_time': -9223372036.905163, 'total_time': 0.054022442}, 'model_name': 'Gemma2-9b-It', 'system_fingerprint': 'fp_10c08bf97d', 'finish_reason': 'stop', 'logprobs': None}, id='run-9d6adabe-84b2-4b96-8394-fb8028ec6897-0', usage_metadata={'input_tokens': 1572, 'output_tokens': 2, 'total_tokens': 1574})]}"
      ]
     },
     "execution_count": 152,
     "metadata": {},
     "output_type": "execute_result"
    }
   ],
   "source": [
    "#Let's ask some irrelavant question\n",
    "app.invoke({\"messages\":[\"what is ISRO?\"]})"
   ]
  },
  {
   "cell_type": "code",
   "execution_count": null,
   "metadata": {},
   "outputs": [],
   "source": []
  }
 ],
 "metadata": {
  "kernelspec": {
   "display_name": "langgraph",
   "language": "python",
   "name": "python3"
  },
  "language_info": {
   "codemirror_mode": {
    "name": "ipython",
    "version": 3
   },
   "file_extension": ".py",
   "mimetype": "text/x-python",
   "name": "python",
   "nbconvert_exporter": "python",
   "pygments_lexer": "ipython3",
   "version": "3.10.16"
  }
 },
 "nbformat": 4,
 "nbformat_minor": 2
}
