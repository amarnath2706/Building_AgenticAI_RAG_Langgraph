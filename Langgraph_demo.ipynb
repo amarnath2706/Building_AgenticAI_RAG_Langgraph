{
 "cells": [
  {
   "cell_type": "code",
   "execution_count": 1,
   "metadata": {},
   "outputs": [],
   "source": [
    "from langgraph.graph import Graph\n"
   ]
  },
  {
   "cell_type": "code",
   "execution_count": 2,
   "metadata": {},
   "outputs": [],
   "source": [
    "from langchain_groq import ChatGroq"
   ]
  },
  {
   "cell_type": "code",
   "execution_count": 3,
   "metadata": {},
   "outputs": [],
   "source": [
    "llm = ChatGroq(model = \"llama3-70b-8192\")"
   ]
  },
  {
   "cell_type": "code",
   "execution_count": 4,
   "metadata": {},
   "outputs": [
    {
     "data": {
      "text/plain": [
       "AIMessage(content=\"ISRO!\\n\\nISRO stands for Indian Space Research Organisation. It is the national space agency of India, responsible for the country's space program and for advancing space technology and exploration.\\n\\nHere are some interesting facts about ISRO:\\n\\n1. **Established in 1969**: ISRO was founded on August 15, 1969, with the vision of harnessing space technology for national development.\\n2. **Milestones**: ISRO has achieved several milestones, including launching its first satellite, Aryabhata, in 1975, and successfully placing the Mars Orbiter Mission (Mangalyaan) into Martian orbit in 2014.\\n3. **Launch vehicles**: ISRO has developed its own launch vehicles, including the Polar Satellite Launch Vehicle (PSLV) and the Geosynchronous Satellite Launch Vehicle (GSLV).\\n4. **Satellite applications**: ISRO has developed various satellites for communication, navigation, earth observation, and weather forecasting, which have greatly benefited the country.\\n5. **Chandrayaan missions**: ISRO has sent two lunar missions, Chandrayaan-1 (2008) and Chandrayaan-2 (2019), to explore the Moon's surface.\\n6. **Reusability**: ISRO has successfully demonstrated the reusability of its launch vehicles, reducing the cost of access to space.\\n7. **International collaborations**: ISRO has collaborated with space agencies around the world, including NASA, ESA, and Roscosmos, on various projects.\\n8. **Indigenous development**: ISRO has developed most of its technologies indigenously, showcasing India's capabilities in space technology.\\n9. **Cost-effective**: ISRO is known for its cost-effective approach to space exploration, making it a model for other countries.\\n10. **Inspiring the nation**: ISRO's achievements have inspired a new generation of Indians to pursue careers in science, technology, engineering, and mathematics (STEM).\\n\\nISRO continues to push the boundaries of space exploration and technology, making India proud and contributing to the country's growth and development.\", additional_kwargs={}, response_metadata={'token_usage': {'completion_tokens': 419, 'prompt_tokens': 13, 'total_tokens': 432, 'completion_time': 1.209417363, 'prompt_time': 0.003323628, 'queue_time': 0.016999679, 'total_time': 1.212740991}, 'model_name': 'llama3-70b-8192', 'system_fingerprint': 'fp_753a4aecf6', 'finish_reason': 'stop', 'logprobs': None}, id='run-034891d3-2709-494b-a17f-1f0e93c300be-0', usage_metadata={'input_tokens': 13, 'output_tokens': 419, 'total_tokens': 432})"
      ]
     },
     "execution_count": 4,
     "metadata": {},
     "output_type": "execute_result"
    }
   ],
   "source": [
    "llm.invoke(\"ISRO?\")"
   ]
  },
  {
   "cell_type": "code",
   "execution_count": 5,
   "metadata": {},
   "outputs": [
    {
     "data": {
      "text/plain": [
       "\"ISRO!\\n\\nISRO stands for Indian Space Research Organisation. It's the national space agency of India, responsible for the country's space program and for advancing space technology and research. ISRO was established in 1969 and is headquartered in Bangalore, India.\\n\\nISRO's primary objectives are:\\n\\n1. To develop and launch satellites for various applications such as communication, navigation, weather forecasting, and earth observation.\\n2. To design and launch spacecraft for planetary exploration and scientific research.\\n3. To develop and demonstrate indigenous capabilities in space technology.\\n\\nSome of ISRO's notable achievements include:\\n\\n1. Launching the first Indian satellite, Aryabhata, in 1975.\\n2. Developing the Polar Satellite Launch Vehicle (PSLV), which has launched numerous satellites into orbit.\\n3. Conducting the Chandrayaan-1 mission, which orbited the Moon in 2008-09.\\n4. Launching the Mangalyaan mission, also known as the Mars Orbiter Mission, which successfully entered Mars' orbit in 2014.\\n5. Developing the GSLV (Geosynchronous Satellite Launch Vehicle) Mark III, which has launched heavy satellites into geosynchronous orbit.\\n6. Conducting numerous record-breaking launches, including the launch of 104 satellites in a single mission in 2017.\\n\\nISRO has also collaborated with international space agencies, such as NASA, the European Space Agency (ESA), and the Russian space agency Roscosmos, on various projects.\\n\\nISRO's achievements have not only advanced India's space program but have also inspired generations of scientists, engineers, and students in India and around the world.\""
      ]
     },
     "execution_count": 5,
     "metadata": {},
     "output_type": "execute_result"
    }
   ],
   "source": [
    "llm.invoke(\"ISRO?\").content"
   ]
  },
  {
   "cell_type": "code",
   "execution_count": 6,
   "metadata": {},
   "outputs": [],
   "source": [
    "def function1(input):\n",
    "    llm = ChatGroq(model=\"llama3-70b-8192\")\n",
    "    response =llm.invoke(\"Give a brief about ISRO?\").content\n",
    "    return response"
   ]
  },
  {
   "cell_type": "code",
   "execution_count": 7,
   "metadata": {},
   "outputs": [
    {
     "data": {
      "text/plain": [
       "\"Here's a brief about ISRO:\\n\\n**What is ISRO?**\\n\\nISRO stands for Indian Space Research Organisation, which is the national space agency of India. It is responsible for the country's space program, including space and earth observation, satellite development, launch vehicles, and exploration of the solar system.\\n\\n**History**\\n\\nISRO was established on August 15, 1969, with the vision of harnessing space technology for national development. The organization was formed by the Department of Space, Government of India, with Dr. Vikram Sarabhai as its first chairman.\\n\\n**Objectives**\\n\\nThe primary objectives of ISRO are:\\n\\n1. To develop and launch satellites for communication, navigation, and earth observation.\\n2. To develop launch vehicles and propulsion systems.\\n3. To conduct space science and planetary exploration missions.\\n4. To provide space-based services for national development.\\n5. To develop indigenous capabilities in space technology.\\n\\n**Achievements**\\n\\nSome of ISRO's notable achievements include:\\n\\n1. Launching India's first satellite, Aryabhata, in 1975.\\n2. Developing the Polar Satellite Launch Vehicle (PSLV), which has successfully launched numerous satellites into orbit.\\n3. Launching the Chandrayaan-1 mission to the Moon in 2008, which discovered water on the lunar surface.\\n4. Successfully landing a rover on Mars with the Mangalyaan mission in 2014, at a fraction of the cost of similar NASA missions.\\n5. Launching a record 104 satellites in a single mission in 2017.\\n6. Developing the GSLV Mk III, a heavy-lift launch vehicle capable of launching 4-ton class satellites into geosynchronous transfer orbit.\\n\\n**Current Projects**\\n\\nISRO is currently working on several projects, including:\\n\\n1. Gaganyaan, India's first crewed space mission, scheduled for 2022.\\n2. Aditya-L1, a solar mission to study the Sun's corona.\\n3. Chandrayaan-3, a follow-up mission to the Moon.\\n4. Mangalyaan-2, a follow-up mission to Mars.\\n\\n**Centers and Facilities**\\n\\nISRO has several centers and facilities across India, including:\\n\\n1. Vikram Sarabhai Space Centre (VSSC), Thiruvananthapuram\\n2. Satish Dhawan Space Centre (SDSC), Sriharikota\\n3. Liquid Propulsion Systems Centre (LPSC), Thiruvananthapuram\\n4. ISRO Satellite Centre (ISAC), Bangalore\\n5. Space Applications Centre (SAC), Ahmedabad\\n\\nISRO has played a significant role in India's space program, and its achievements have inspired a new generation of scientists and engineers in the country.\""
      ]
     },
     "execution_count": 7,
     "metadata": {},
     "output_type": "execute_result"
    }
   ],
   "source": [
    "function1(\"\")"
   ]
  },
  {
   "cell_type": "code",
   "execution_count": 8,
   "metadata": {},
   "outputs": [],
   "source": [
    "def function2(input):\n",
    "    upper_string = input.upper()\n",
    "    return upper_string"
   ]
  },
  {
   "cell_type": "code",
   "execution_count": 9,
   "metadata": {},
   "outputs": [],
   "source": [
    "workflow = Graph()"
   ]
  },
  {
   "cell_type": "code",
   "execution_count": 10,
   "metadata": {},
   "outputs": [
    {
     "data": {
      "text/plain": [
       "<langgraph.graph.graph.Graph at 0x23458867a30>"
      ]
     },
     "execution_count": 10,
     "metadata": {},
     "output_type": "execute_result"
    }
   ],
   "source": [
    "workflow.add_node(\"llm\",function1)\n",
    "workflow.add_node(\"upper_string\",function2)\n"
   ]
  },
  {
   "cell_type": "code",
   "execution_count": 11,
   "metadata": {},
   "outputs": [
    {
     "data": {
      "text/plain": [
       "<langgraph.graph.graph.Graph at 0x23458867a30>"
      ]
     },
     "execution_count": 11,
     "metadata": {},
     "output_type": "execute_result"
    }
   ],
   "source": [
    "workflow.add_edge(\"llm\",\"upper_string\")"
   ]
  },
  {
   "cell_type": "code",
   "execution_count": 12,
   "metadata": {},
   "outputs": [
    {
     "data": {
      "text/plain": [
       "<langgraph.graph.graph.Graph at 0x23458867a30>"
      ]
     },
     "execution_count": 12,
     "metadata": {},
     "output_type": "execute_result"
    }
   ],
   "source": [
    "workflow.set_entry_point(\"llm\")"
   ]
  },
  {
   "cell_type": "code",
   "execution_count": 13,
   "metadata": {},
   "outputs": [
    {
     "data": {
      "text/plain": [
       "<langgraph.graph.graph.Graph at 0x23458867a30>"
      ]
     },
     "execution_count": 13,
     "metadata": {},
     "output_type": "execute_result"
    }
   ],
   "source": [
    "workflow.set_finish_point(\"upper_string\")"
   ]
  },
  {
   "cell_type": "code",
   "execution_count": 14,
   "metadata": {},
   "outputs": [],
   "source": [
    "app = workflow.compile()"
   ]
  },
  {
   "cell_type": "code",
   "execution_count": 15,
   "metadata": {},
   "outputs": [
    {
     "data": {
      "image/png": "[encoded data removed]",
      "text/plain": [
       "<IPython.core.display.Image object>"
      ]
     },
     "metadata": {},
     "output_type": "display_data"
    }
   ],
   "source": [
    "from IPython.display import Image,display\n",
    "\n",
    "try:\n",
    "    display(Image(app.get_graph().draw_mermaid_png()))\n",
    "except Exception as e:\n",
    "    print(e)"
   ]
  },
  {
   "cell_type": "code",
   "execution_count": 16,
   "metadata": {},
   "outputs": [
    {
     "data": {
      "text/plain": [
       "\"HERE'S A BRIEF ABOUT ISRO:\\n\\n**WHAT IS ISRO?**\\n\\nISRO (INDIAN SPACE RESEARCH ORGANISATION) IS THE NATIONAL SPACE AGENCY OF INDIA, RESPONSIBLE FOR THE COUNTRY'S SPACE PROGRAM.\\n\\n**ESTABLISHED:** AUGUST 15, 1969\\n\\n**HEADQUARTERS:** BENGALURU, KARNATAKA, INDIA\\n\\n**OBJECTIVE:**\\n\\n* TO HARNESS SPACE TECHNOLOGY FOR NATIONAL DEVELOPMENT, WHILE PURSUING SPACE SCIENCE RESEARCH AND PLANETARY EXPLORATION.\\n\\n**KEY ACHIEVEMENTS:**\\n\\n1. **LAUNCH OF ARYABHATA:** INDIA'S FIRST SATELLITE, LAUNCHED ON APRIL 19, 1975.\\n2. **POLAR SATELLITE LAUNCH VEHICLE (PSLV):** A RELIABLE AND VERSATILE LAUNCH VEHICLE THAT HAS LAUNCHED NUMEROUS SATELLITES INTO ORBIT.\\n3. **MARS ORBITER MISSION (MANGALYAAN):** SUCCESSFULLY ORBITED MARS ON SEPTEMBER 24, 2014, MAKING INDIA THE FIRST COUNTRY TO ACHIEVE THIS FEAT ON ITS MAIDEN ATTEMPT.\\n4. **CHANDRAYAAN-1:** INDIA'S FIRST LUNAR MISSION, LAUNCHED ON OCTOBER 22, 2008, WHICH DISCOVERED WATER ICE ON THE MOON.\\n5. **RECORD-BREAKING SATELLITE LAUNCHES:** ISRO HAS SET MULTIPLE RECORDS FOR LAUNCHING THE HIGHEST NUMBER OF SATELLITES IN A SINGLE MISSION, INCLUDING 104 SATELLITES ON FEBRUARY 15, 2017.\\n6. **GSLV MK III:** A HEAVY-LIFT LAUNCH VEHICLE CAPABLE OF LAUNCHING 4-TONNE SATELLITES INTO GEOSYNCHRONOUS TRANSFER ORBIT.\\n7. **HUMAN SPACEFLIGHT PROGRAMME:** ISRO IS WORKING TOWARDS DEVELOPING CAPABILITIES FOR HUMAN SPACEFLIGHT, WITH THE GOAL OF SENDING AN INDIAN ASTRONAUT TO SPACE BY 2022.\\n\\n**CURRENT PROJECTS:**\\n\\n1. **GAGANYAAN:** INDIA'S FIRST CREWED SPACECRAFT, AIMED AT SENDING THREE ASTRONAUTS TO SPACE FOR FIVE DAYS.\\n2. **ADITYA-L1:** A SOLAR MISSION TO STUDY THE SUN'S CORONA AND ITS IMPACT ON THE EARTH'S MAGNETOSPHERE.\\n3. **CHANDRAYAAN-2:** A LUNAR MISSION THAT INCLUDES A LUNAR ROVER, LANDER, AND ORBITER.\\n4. **SHUKRAYAAN-1:** A MISSION TO STUDY VENUS AND ITS ATMOSPHERE.\\n\\n**ISRO'S CONTRIBUTIONS:**\\n\\n1. **TELECOMMUNICATIONS:** ISRO'S SATELLITES PROVIDE CRITICAL COMMUNICATION SERVICES, INCLUDING TV BROADCASTING, MOBILE NETWORKS, AND INTERNET CONNECTIVITY.\\n2. **EARTH OBSERVATION:** ISRO'S SATELLITES MONITOR THE EARTH'S NATURAL RESOURCES, TRACK WEATHER PATTERNS, AND PROVIDE DISASTER MANAGEMENT SUPPORT.\\n3. **NAVIGATION:** ISRO'S NAVIC (NAVIGATION WITH INDIAN CONSTELLATION) SYSTEM PROVIDES ACCURATE NAVIGATION AND TIMING SERVICES.\\n\\nISRO HAS BECOME A SYMBOL OF INDIA'S SCIENTIFIC PROWESS AND ITS COMMITMENT TO EXPLORING SPACE FOR THE BENEFIT OF HUMANITY.\""
      ]
     },
     "execution_count": 16,
     "metadata": {},
     "output_type": "execute_result"
    }
   ],
   "source": [
    "app.invoke(\"\")"
   ]
  },
  {
   "cell_type": "code",
   "execution_count": null,
   "metadata": {},
   "outputs": [],
   "source": []
  }
 ],
 "metadata": {
  "kernelspec": {
   "display_name": "langgraph",
   "language": "python",
   "name": "python3"
  },
  "language_info": {
   "codemirror_mode": {
    "name": "ipython",
    "version": 3
   },
   "file_extension": ".py",
   "mimetype": "text/x-python",
   "name": "python",
   "nbconvert_exporter": "python",
   "pygments_lexer": "ipython3",
   "version": "3.10.16"
  }
 },
 "nbformat": 4,
 "nbformat_minor": 2
}
